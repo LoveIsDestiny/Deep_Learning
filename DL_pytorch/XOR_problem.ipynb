{
  "cells": [
    {
      "cell_type": "markdown",
      "id": "ebc2ed3f",
      "metadata": {
        "id": "ebc2ed3f"
      },
      "source": [
        "# XOR 문제 구현 - 단층 퍼셉트론"
      ]
    },
    {
      "cell_type": "markdown",
      "id": "6fda6d7b",
      "metadata": {
        "id": "6fda6d7b"
      },
      "source": [
        "### 1. GPU 연산 세팅"
      ]
    },
    {
      "cell_type": "code",
      "execution_count": 2,
      "id": "da284686",
      "metadata": {
        "id": "da284686"
      },
      "outputs": [],
      "source": [
        "import torch\n",
        "import torch.nn as nn\n",
        "import torch.nn.functional as F\n",
        "import matplotlib.pyplot as plt\n",
        "\n",
        "device = 'cuda'if torch.cuda.is_available() else 'cpu'\n",
        "torch.manual_seed(77)\n",
        "if device == 'cuda' :\n",
        "    torch.cuda.manual_seed_all(77)"
      ]
    },
    {
      "cell_type": "code",
      "execution_count": 3,
      "id": "d8be66a3",
      "metadata": {
        "colab": {
          "base_uri": "https://localhost:8080/",
          "height": 35
        },
        "id": "d8be66a3",
        "outputId": "864d059e-e1ca-409d-fc82-d75e481b179f"
      },
      "outputs": [
        {
          "output_type": "execute_result",
          "data": {
            "text/plain": [
              "'cpu'"
            ],
            "application/vnd.google.colaboratory.intrinsic+json": {
              "type": "string"
            }
          },
          "metadata": {},
          "execution_count": 3
        }
      ],
      "source": [
        "device"
      ]
    },
    {
      "cell_type": "markdown",
      "id": "ee2e686f",
      "metadata": {
        "id": "ee2e686f"
      },
      "source": [
        "### 2. 입출력 정의, 신경망 정의"
      ]
    },
    {
      "cell_type": "code",
      "execution_count": 4,
      "id": "f91daeb0",
      "metadata": {
        "colab": {
          "base_uri": "https://localhost:8080/"
        },
        "id": "f91daeb0",
        "outputId": "ff1a4643-f92c-4185-d5cd-4dce74664ea5"
      },
      "outputs": [
        {
          "output_type": "stream",
          "name": "stdout",
          "text": [
            "Random Parameters :\n",
            " [Parameter containing:\n",
            "tensor([[-0.2943, -0.3031]], requires_grad=True), Parameter containing:\n",
            "tensor([-0.1385], requires_grad=True)]\n"
          ]
        }
      ],
      "source": [
        "X = torch.FloatTensor([[0, 0],\n",
        "                       [0, 1],\n",
        "                       [1, 0],\n",
        "                       [1, 1]]).to(device)\n",
        "Y = torch.FloatTensor([[0], [1], [1], [0]]).to(device)\n",
        "\n",
        "linear = nn.Linear(2, 1, bias = True) #nn.Linear() 는 파라미터 (가중치) 초깃값을 랜덤하게 지정. (seed 로 고정함)\n",
        "print(\"Random Parameters :\\n\", list(linear.parameters()))\n",
        "\n",
        "sigmoid = nn.Sigmoid()\n",
        "model = nn.Sequential(linear, sigmoid).to(device) # nn.Sequential()은 nn.Module 층을 차례로 쌓을 수 있도록 함\n",
        "\n",
        "Error_func = torch.nn.BCELoss().to(device) # Cross Entropy\n",
        "optimizer = torch.optim.SGD(model.parameters(), lr = 0.1)"
      ]
    },
    {
      "cell_type": "code",
      "execution_count": 5,
      "id": "3ad5ed09",
      "metadata": {
        "colab": {
          "base_uri": "https://localhost:8080/"
        },
        "id": "3ad5ed09",
        "outputId": "39fbafbc-13b6-40b1-c34e-7d7c4cd4ec5a"
      },
      "outputs": [
        {
          "output_type": "stream",
          "name": "stdout",
          "text": [
            "딥러닝 모델의 초기 예측값 : \n",
            " tensor([[0.4654],\n",
            "        [0.3914],\n",
            "        [0.3935],\n",
            "        [0.3239]], grad_fn=<SigmoidBackward0>)\n"
          ]
        }
      ],
      "source": [
        "print(\"딥러닝 모델의 초기 예측값 : \\n\", model(X))"
      ]
    },
    {
      "cell_type": "code",
      "execution_count": 6,
      "id": "8b1488d8",
      "metadata": {
        "scrolled": false,
        "colab": {
          "base_uri": "https://localhost:8080/",
          "height": 1000
        },
        "id": "8b1488d8",
        "outputId": "4b525bce-42d5-4cd7-fe21-5528788a2c43"
      },
      "outputs": [
        {
          "output_type": "stream",
          "name": "stdout",
          "text": [
            "0 0.7221513390541077\n",
            "100 0.7221513390541077\n",
            "200 0.7221513390541077\n",
            "300 0.7221513390541077\n",
            "400 0.7221513390541077\n",
            "500 0.7221513390541077\n",
            "600 0.7221513390541077\n",
            "700 0.7221513390541077\n",
            "800 0.7221513390541077\n",
            "900 0.7221513390541077\n",
            "1000 0.7221513390541077\n",
            "1100 0.7221513390541077\n",
            "1200 0.7221513390541077\n",
            "1300 0.7221513390541077\n",
            "1400 0.7221513390541077\n",
            "1500 0.7221513390541077\n",
            "1600 0.7221513390541077\n",
            "1700 0.7221513390541077\n",
            "1800 0.7221513390541077\n",
            "1900 0.7221513390541077\n",
            "2000 0.7221513390541077\n",
            "2100 0.7221513390541077\n",
            "2200 0.7221513390541077\n",
            "2300 0.7221513390541077\n",
            "2400 0.7221513390541077\n",
            "2500 0.7221513390541077\n",
            "2600 0.7221513390541077\n",
            "2700 0.7221513390541077\n",
            "2800 0.7221513390541077\n",
            "2900 0.7221513390541077\n",
            "3000 0.7221513390541077\n",
            "3100 0.7221513390541077\n",
            "3200 0.7221513390541077\n",
            "3300 0.7221513390541077\n",
            "3400 0.7221513390541077\n",
            "3500 0.7221513390541077\n",
            "3600 0.7221513390541077\n",
            "3700 0.7221513390541077\n",
            "3800 0.7221513390541077\n",
            "3900 0.7221513390541077\n",
            "4000 0.7221513390541077\n",
            "4100 0.7221513390541077\n",
            "4200 0.7221513390541077\n",
            "4300 0.7221513390541077\n",
            "4400 0.7221513390541077\n",
            "4500 0.7221513390541077\n",
            "4600 0.7221513390541077\n",
            "4700 0.7221513390541077\n",
            "4800 0.7221513390541077\n",
            "4900 0.7221513390541077\n",
            "5000 0.7221513390541077\n",
            "5100 0.7221513390541077\n",
            "5200 0.7221513390541077\n",
            "5300 0.7221513390541077\n",
            "5400 0.7221513390541077\n",
            "5500 0.7221513390541077\n",
            "5600 0.7221513390541077\n",
            "5700 0.7221513390541077\n",
            "5800 0.7221513390541077\n",
            "5900 0.7221513390541077\n",
            "6000 0.7221513390541077\n",
            "6100 0.7221513390541077\n",
            "6200 0.7221513390541077\n",
            "6300 0.7221513390541077\n",
            "6400 0.7221513390541077\n",
            "6500 0.7221513390541077\n",
            "6600 0.7221513390541077\n",
            "6700 0.7221513390541077\n",
            "6800 0.7221513390541077\n",
            "6900 0.7221513390541077\n",
            "7000 0.7221513390541077\n",
            "7100 0.7221513390541077\n",
            "7200 0.7221513390541077\n",
            "7300 0.7221513390541077\n",
            "7400 0.7221513390541077\n",
            "7500 0.7221513390541077\n",
            "7600 0.7221513390541077\n",
            "7700 0.7221513390541077\n",
            "7800 0.7221513390541077\n",
            "7900 0.7221513390541077\n",
            "8000 0.7221513390541077\n",
            "8100 0.7221513390541077\n",
            "8200 0.7221513390541077\n",
            "8300 0.7221513390541077\n",
            "8400 0.7221513390541077\n",
            "8500 0.7221513390541077\n",
            "8600 0.7221513390541077\n",
            "8700 0.7221513390541077\n",
            "8800 0.7221513390541077\n",
            "8900 0.7221513390541077\n",
            "9000 0.7221513390541077\n",
            "9100 0.7221513390541077\n",
            "9200 0.7221513390541077\n",
            "9300 0.7221513390541077\n",
            "9400 0.7221513390541077\n",
            "9500 0.7221513390541077\n",
            "9600 0.7221513390541077\n",
            "9700 0.7221513390541077\n",
            "9800 0.7221513390541077\n",
            "9900 0.7221513390541077\n",
            "10000 0.7221513390541077\n"
          ]
        },
        {
          "output_type": "execute_result",
          "data": {
            "text/plain": [
              "[<matplotlib.lines.Line2D at 0x7fe7bc0d1290>]"
            ]
          },
          "metadata": {},
          "execution_count": 6
        },
        {
          "output_type": "display_data",
          "data": {
            "text/plain": [
              "<Figure size 432x288 with 1 Axes>"
            ],
            "image/png": "[encoded data removed]"
          },
          "metadata": {
            "needs_background": "light"
          }
        }
      ],
      "source": [
        "Error_list = []\n",
        "\n",
        "for step in range(10001):\n",
        "    optimizer.zero_grad()\n",
        "    hypothesis = model(X)\n",
        "    \n",
        "    Error = Error_func(hypothesis, Y) # (NN의 Output, 실제값)\n",
        "    Error_list.append(Error.item())\n",
        "    Error.backward # 기울기 계산\n",
        "    optimizer.step() # 기울기 업데이트\n",
        "    \n",
        "    if step % 100 == 0:\n",
        "        print(step, Error.item())\n",
        "\n",
        "plt.plot(Error_list)"
      ]
    },
    {
      "cell_type": "code",
      "execution_count": 7,
      "id": "c4b6e12c",
      "metadata": {
        "colab": {
          "base_uri": "https://localhost:8080/"
        },
        "id": "c4b6e12c",
        "outputId": "79e633a1-6373-4d1f-cfcc-729272d70f54"
      },
      "outputs": [
        {
          "output_type": "stream",
          "name": "stdout",
          "text": [
            "심층학습 후 예측값 : \n",
            " tensor([[0.4654],\n",
            "        [0.3914],\n",
            "        [0.3935],\n",
            "        [0.3239]], grad_fn=<SigmoidBackward0>)\n"
          ]
        }
      ],
      "source": [
        "print(\"심층학습 후 예측값 : \\n\", hypothesis)"
      ]
    },
    {
      "cell_type": "markdown",
      "id": "b6c43012",
      "metadata": {
        "id": "b6c43012"
      },
      "source": [
        "# 2. XOR 문제 구현 - 다층 퍼셉트론"
      ]
    },
    {
      "cell_type": "code",
      "execution_count": 8,
      "id": "11461d91",
      "metadata": {
        "colab": {
          "base_uri": "https://localhost:8080/"
        },
        "id": "11461d91",
        "outputId": "928d201c-9887-4138-9167-d95944a49ba1"
      },
      "outputs": [
        {
          "output_type": "stream",
          "name": "stdout",
          "text": [
            "딥러닝 모델의 초기 예측값 : \n",
            " tensor([[0.5278],\n",
            "        [0.5246],\n",
            "        [0.5218],\n",
            "        [0.5183]], grad_fn=<SigmoidBackward0>)\n"
          ]
        }
      ],
      "source": [
        "model = nn.Sequential(\n",
        "            nn.Linear(2, 2, bias = True),\n",
        "            nn.Sigmoid(),\n",
        "            nn.Linear(2, 1, bias = True),\n",
        "            nn.Sigmoid()\n",
        "            ).to(device)\n",
        "\n",
        "Error_func = torch.nn.BCELoss().to(device)\n",
        "optimizer = torch.optim.SGD(model.parameters(), lr = 1)\n",
        "print(\"딥러닝 모델의 초기 예측값 : \\n\", model(X))"
      ]
    },
    {
      "cell_type": "code",
      "execution_count": 9,
      "id": "e35e07bc",
      "metadata": {
        "scrolled": false,
        "colab": {
          "base_uri": "https://localhost:8080/",
          "height": 1000
        },
        "id": "e35e07bc",
        "outputId": "42318718-c5a0-4519-ed96-1d5d61b7f421"
      },
      "outputs": [
        {
          "output_type": "stream",
          "name": "stdout",
          "text": [
            "0 0.6940639019012451\n",
            "100 0.6925187706947327\n",
            "200 0.6910218000411987\n",
            "300 0.6805886030197144\n",
            "400 0.5227653384208679\n",
            "500 0.15272587537765503\n",
            "600 0.06794840097427368\n",
            "700 0.041773755103349686\n",
            "800 0.029749326407909393\n",
            "900 0.02296537160873413\n",
            "1000 0.01864388957619667\n",
            "1100 0.01566304638981819\n",
            "1200 0.013488399796187878\n",
            "1300 0.011834666132926941\n",
            "1400 0.010536274872720242\n",
            "1500 0.009490580298006535\n",
            "1600 0.008631051518023014\n",
            "1700 0.007912230677902699\n",
            "1800 0.0073025464080274105\n",
            "1900 0.006778954528272152\n",
            "2000 0.006324637681245804\n",
            "2100 0.005926709156483412\n",
            "2200 0.005575357936322689\n",
            "2300 0.0052628787234425545\n",
            "2400 0.004983271937817335\n",
            "2500 0.004731536842882633\n",
            "2600 0.004503835458308458\n",
            "2700 0.004296782426536083\n",
            "2800 0.004107820801436901\n",
            "2900 0.003934620879590511\n",
            "3000 0.003775319317355752\n",
            "3100 0.0036282939836382866\n",
            "3200 0.003492192830890417\n",
            "3300 0.003365875454619527\n",
            "3400 0.003248291090130806\n",
            "3500 0.0031385542824864388\n",
            "3600 0.003036005422472954\n",
            "3700 0.0029398195911198854\n",
            "3800 0.002849561395123601\n",
            "3900 0.0027646017260849476\n",
            "4000 0.0026845657266676426\n",
            "4100 0.0026089444290846586\n",
            "4200 0.0025374670512974262\n",
            "4300 0.0024697897024452686\n",
            "4400 0.0024056124966591597\n",
            "4500 0.002344636246562004\n",
            "4600 0.0022866660729050636\n",
            "4700 0.0022314623929560184\n",
            "4800 0.0021788605954498053\n",
            "4900 0.0021286511328071356\n",
            "5000 0.0020806840620934963\n",
            "5100 0.002034839941188693\n",
            "5200 0.00199098396115005\n",
            "5300 0.0019489366095513105\n",
            "5400 0.0019085933454334736\n",
            "5500 0.001869908650405705\n",
            "5600 0.001832748530432582\n",
            "5700 0.001797037897631526\n",
            "5800 0.0017626871122047305\n",
            "5900 0.0017295766156166792\n",
            "6000 0.0016977208433672786\n",
            "6100 0.0016670008189976215\n",
            "6200 0.0016373713733628392\n",
            "6300 0.0016087875701487064\n",
            "6400 0.001581160118803382\n",
            "6500 0.0015544288326054811\n",
            "6600 0.0015286382986232638\n",
            "6700 0.001503654639236629\n",
            "6800 0.0014794773887842894\n",
            "6900 0.0014560469426214695\n",
            "7000 0.0014333483995869756\n",
            "7100 0.00141136662568897\n",
            "7200 0.0013900271151214838\n",
            "7300 0.001369329635053873\n",
            "7400 0.0013491995632648468\n",
            "7500 0.001329696737229824\n",
            "7600 0.0013107163831591606\n",
            "7700 0.0012922887690365314\n",
            "7800 0.0012743686093017459\n",
            "7900 0.001256911433301866\n",
            "8000 0.0012399617116898298\n",
            "8100 0.001223415252752602\n",
            "8200 0.0012073465622961521\n",
            "8300 0.0011916958028450608\n",
            "8400 0.0011764033697545528\n",
            "8500 0.0011615288676694036\n",
            "8600 0.0011469977907836437\n",
            "8700 0.001132839941419661\n",
            "8800 0.0011190252844244242\n",
            "8900 0.0011055540526285768\n",
            "9000 0.001092351507395506\n",
            "9100 0.0010795071721076965\n",
            "9200 0.0010669613257050514\n",
            "9300 0.0010546842822805047\n",
            "9400 0.0010426907101646066\n",
            "9500 0.0010309807257726789\n",
            "9600 0.001019524410367012\n",
            "9700 0.0010082920780405402\n",
            "9800 0.0009973283158615232\n",
            "9900 0.0009866331238299608\n",
            "10000 0.0009760725079104304\n"
          ]
        },
        {
          "output_type": "execute_result",
          "data": {
            "text/plain": [
              "Text(0, 0.5, 'Error')"
            ]
          },
          "metadata": {},
          "execution_count": 9
        },
        {
          "output_type": "display_data",
          "data": {
            "text/plain": [
              "<Figure size 432x288 with 1 Axes>"
            ],
            "image/png": "[encoded data removed]"
          },
          "metadata": {
            "needs_background": "light"
          }
        }
      ],
      "source": [
        "Error_list = []\n",
        "\n",
        "for epoch in range(10001):\n",
        "    optimizer.zero_grad()\n",
        "    \n",
        "    hypothesis = model(X)\n",
        "    \n",
        "    Error = Error_func(hypothesis, Y)\n",
        "    Error.backward()\n",
        "    Error_list.append(Error.item())\n",
        "    optimizer.step()\n",
        "    \n",
        "    if epoch % 100 == 0:\n",
        "        print(epoch, Error.item())\n",
        "\n",
        "plt.plot(Error_list, color = 'red')\n",
        "plt.xlabel(\"Epoch\")\n",
        "plt.ylabel(\"Error\")"
      ]
    },
    {
      "cell_type": "code",
      "execution_count": 10,
      "id": "0d9253ed",
      "metadata": {
        "scrolled": false,
        "colab": {
          "base_uri": "https://localhost:8080/"
        },
        "id": "0d9253ed",
        "outputId": "a1b4e20b-eac2-4167-c27e-b80c3725c590"
      },
      "outputs": [
        {
          "output_type": "stream",
          "name": "stdout",
          "text": [
            "[('0.weight', Parameter containing:\n",
            "tensor([[-7.5944,  7.8369],\n",
            "        [-7.5147,  7.2549]], requires_grad=True)), ('0.bias', Parameter containing:\n",
            "tensor([ 3.7900, -3.8227], requires_grad=True)), ('2.weight', Parameter containing:\n",
            "tensor([[-14.5927,  15.1431]], requires_grad=True)), ('2.bias', Parameter containing:\n",
            "tensor([6.9712], requires_grad=True))]\n"
          ]
        }
      ],
      "source": [
        "print(list(model.named_parameters()))"
      ]
    },
    {
      "cell_type": "code",
      "execution_count": 11,
      "id": "9fb27b52",
      "metadata": {
        "scrolled": false,
        "colab": {
          "base_uri": "https://localhost:8080/"
        },
        "id": "9fb27b52",
        "outputId": "fdeb4779-6b52-4c5b-d821-dbfd1d0b297f"
      },
      "outputs": [
        {
          "output_type": "stream",
          "name": "stdout",
          "text": [
            "Layer: 0.weight | Size: torch.Size([2, 2]) | Values : tensor([[-7.5944,  7.8369],\n",
            "        [-7.5147,  7.2549]], grad_fn=<SliceBackward0>) \n",
            "\n",
            "Layer: 0.bias | Size: torch.Size([2]) | Values : tensor([ 3.7900, -3.8227], grad_fn=<SliceBackward0>) \n",
            "\n",
            "Layer: 2.weight | Size: torch.Size([1, 2]) | Values : tensor([[-14.5927,  15.1431]], grad_fn=<SliceBackward0>) \n",
            "\n",
            "Layer: 2.bias | Size: torch.Size([1]) | Values : tensor([6.9712], grad_fn=<SliceBackward0>) \n",
            "\n"
          ]
        }
      ],
      "source": [
        "for name, param in model.named_parameters():\n",
        "    print(f\"Layer: {name} | Size: {param.size()} | Values : {param[:2]} \\n\")"
      ]
    },
    {
      "cell_type": "code",
      "execution_count": 12,
      "id": "94d49264",
      "metadata": {
        "scrolled": false,
        "colab": {
          "base_uri": "https://localhost:8080/"
        },
        "id": "94d49264",
        "outputId": "24bc5541-da54-4f45-a1f8-4d18a816e788"
      },
      "outputs": [
        {
          "output_type": "stream",
          "name": "stdout",
          "text": [
            "딥러닝 학습 후 에측값 : \n",
            " tensor([[9.3409e-04],\n",
            "        [9.9913e-01],\n",
            "        [9.9871e-01],\n",
            "        [8.1125e-04]], grad_fn=<SigmoidBackward0>)\n",
            "tensor([[0.],\n",
            "        [1.],\n",
            "        [1.],\n",
            "        [0.]])\n"
          ]
        }
      ],
      "source": [
        "print(\"딥러닝 학습 후 에측값 : \\n\", model(X))\n",
        "print((model(X) > 0.5).float())"
      ]
    }
  ],
  "metadata": {
    "kernelspec": {
      "display_name": "Python 3 (ipykernel)",
      "language": "python",
      "name": "python3"
    },
    "language_info": {
      "codemirror_mode": {
        "name": "ipython",
        "version": 3
      },
      "file_extension": ".py",
      "mimetype": "text/x-python",
      "name": "python",
      "nbconvert_exporter": "python",
      "pygments_lexer": "ipython3",
      "version": "3.7.11"
    },
    "colab": {
      "name": "XOR_problem.ipynb",
      "provenance": []
    }
  },
  "nbformat": 4,
  "nbformat_minor": 5
}