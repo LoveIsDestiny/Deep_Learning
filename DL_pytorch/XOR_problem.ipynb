{
 "cells": [
  {
   "cell_type": "markdown",
   "id": "ebc2ed3f",
   "metadata": {},
   "source": [
    "# XOR 문제 구현 - 단층 퍼셉트론"
   ]
  },
  {
   "cell_type": "markdown",
   "id": "6fda6d7b",
   "metadata": {},
   "source": [
    "### 1. GPU 연산 세팅"
   ]
  },
  {
   "cell_type": "code",
   "execution_count": 1,
   "id": "da284686",
   "metadata": {},
   "outputs": [],
   "source": [
    "import torch\n",
    "import torch.nn as nn\n",
    "import torch.nn.functional as F\n",
    "import matplotlib.pyplot as plt\n",
    "\n",
    "device = 'cuda'if torch.cuda.is_available() else 'cpu'\n",
    "torch.manual_seed(77)\n",
    "if device == 'cuda' :\n",
    "    torch.cuda.manual_seed_all(77)"
   ]
  },
  {
   "cell_type": "code",
   "execution_count": 2,
   "id": "d8be66a3",
   "metadata": {},
   "outputs": [
    {
     "data": {
      "text/plain": [
       "'cpu'"
      ]
     },
     "execution_count": 2,
     "metadata": {},
     "output_type": "execute_result"
    }
   ],
   "source": [
    "device"
   ]
  },
  {
   "cell_type": "markdown",
   "id": "ee2e686f",
   "metadata": {},
   "source": [
    "### 2. 입출력 정의, 신경망 정의"
   ]
  },
  {
   "cell_type": "code",
   "execution_count": 3,
   "id": "f91daeb0",
   "metadata": {},
   "outputs": [
    {
     "name": "stdout",
     "output_type": "stream",
     "text": [
      "Random Parameters :\n",
      " [Parameter containing:\n",
      "tensor([[-0.2943, -0.3031]], requires_grad=True), Parameter containing:\n",
      "tensor([-0.1385], requires_grad=True)]\n"
     ]
    }
   ],
   "source": [
    "X = torch.FloatTensor([[0, 0],\n",
    "                       [0, 1],\n",
    "                       [1, 0],\n",
    "                       [1, 1]]).to(device)\n",
    "Y = torch.FloatTensor([[0], [1], [1], [0]]).to(device)\n",
    "\n",
    "linear = nn.Linear(2, 1, bias = True) #nn.Linear() 는 파라미터 (가중치) 초깃값을 랜덤하게 지정. (seed 로 고정함)\n",
    "print(\"Random Parameters :\\n\", list(linear.parameters()))\n",
    "\n",
    "sigmoid = nn.Sigmoid()\n",
    "model = nn.Sequential(linear, sigmoid).to(device) # nn.Sequential()은 nn.Module 층을 차례로 쌓을 수 있도록 함\n",
    "\n",
    "Error_func = torch.nn.BCELoss().to(device) # Cross Entropy\n",
    "optimizer = torch.optim.SGD(model.parameters(), lr = 0.1)"
   ]
  },
  {
   "cell_type": "code",
   "execution_count": 4,
   "id": "3ad5ed09",
   "metadata": {},
   "outputs": [
    {
     "name": "stdout",
     "output_type": "stream",
     "text": [
      "딥러닝 모델의 초기 예측값 : \n",
      " tensor([[0.4654],\n",
      "        [0.3914],\n",
      "        [0.3935],\n",
      "        [0.3239]], grad_fn=<SigmoidBackward>)\n"
     ]
    }
   ],
   "source": [
    "print(\"딥러닝 모델의 초기 예측값 : \\n\", model(X))"
   ]
  },
  {
   "cell_type": "code",
   "execution_count": 5,
   "id": "8b1488d8",
   "metadata": {
    "scrolled": false
   },
   "outputs": [
    {
     "name": "stdout",
     "output_type": "stream",
     "text": [
      "0 0.7221513390541077\n",
      "100 0.7221513390541077\n",
      "200 0.7221513390541077\n",
      "300 0.7221513390541077\n",
      "400 0.7221513390541077\n",
      "500 0.7221513390541077\n",
      "600 0.7221513390541077\n",
      "700 0.7221513390541077\n",
      "800 0.7221513390541077\n",
      "900 0.7221513390541077\n",
      "1000 0.7221513390541077\n",
      "1100 0.7221513390541077\n",
      "1200 0.7221513390541077\n",
      "1300 0.7221513390541077\n",
      "1400 0.7221513390541077\n",
      "1500 0.7221513390541077\n",
      "1600 0.7221513390541077\n",
      "1700 0.7221513390541077\n",
      "1800 0.7221513390541077\n",
      "1900 0.7221513390541077\n",
      "2000 0.7221513390541077\n",
      "2100 0.7221513390541077\n",
      "2200 0.7221513390541077\n",
      "2300 0.7221513390541077\n",
      "2400 0.7221513390541077\n",
      "2500 0.7221513390541077\n",
      "2600 0.7221513390541077\n",
      "2700 0.7221513390541077\n",
      "2800 0.7221513390541077\n",
      "2900 0.7221513390541077\n",
      "3000 0.7221513390541077\n",
      "3100 0.7221513390541077\n",
      "3200 0.7221513390541077\n",
      "3300 0.7221513390541077\n",
      "3400 0.7221513390541077\n",
      "3500 0.7221513390541077\n",
      "3600 0.7221513390541077\n",
      "3700 0.7221513390541077\n",
      "3800 0.7221513390541077\n",
      "3900 0.7221513390541077\n",
      "4000 0.7221513390541077\n",
      "4100 0.7221513390541077\n",
      "4200 0.7221513390541077\n",
      "4300 0.7221513390541077\n",
      "4400 0.7221513390541077\n",
      "4500 0.7221513390541077\n",
      "4600 0.7221513390541077\n",
      "4700 0.7221513390541077\n",
      "4800 0.7221513390541077\n",
      "4900 0.7221513390541077\n",
      "5000 0.7221513390541077\n",
      "5100 0.7221513390541077\n",
      "5200 0.7221513390541077\n",
      "5300 0.7221513390541077\n",
      "5400 0.7221513390541077\n",
      "5500 0.7221513390541077\n",
      "5600 0.7221513390541077\n",
      "5700 0.7221513390541077\n",
      "5800 0.7221513390541077\n",
      "5900 0.7221513390541077\n",
      "6000 0.7221513390541077\n",
      "6100 0.7221513390541077\n",
      "6200 0.7221513390541077\n",
      "6300 0.7221513390541077\n",
      "6400 0.7221513390541077\n",
      "6500 0.7221513390541077\n",
      "6600 0.7221513390541077\n",
      "6700 0.7221513390541077\n",
      "6800 0.7221513390541077\n",
      "6900 0.7221513390541077\n",
      "7000 0.7221513390541077\n",
      "7100 0.7221513390541077\n",
      "7200 0.7221513390541077\n",
      "7300 0.7221513390541077\n",
      "7400 0.7221513390541077\n",
      "7500 0.7221513390541077\n",
      "7600 0.7221513390541077\n",
      "7700 0.7221513390541077\n",
      "7800 0.7221513390541077\n",
      "7900 0.7221513390541077\n",
      "8000 0.7221513390541077\n",
      "8100 0.7221513390541077\n",
      "8200 0.7221513390541077\n",
      "8300 0.7221513390541077\n",
      "8400 0.7221513390541077\n",
      "8500 0.7221513390541077\n",
      "8600 0.7221513390541077\n",
      "8700 0.7221513390541077\n",
      "8800 0.7221513390541077\n",
      "8900 0.7221513390541077\n",
      "9000 0.7221513390541077\n",
      "9100 0.7221513390541077\n",
      "9200 0.7221513390541077\n",
      "9300 0.7221513390541077\n",
      "9400 0.7221513390541077\n",
      "9500 0.7221513390541077\n",
      "9600 0.7221513390541077\n",
      "9700 0.7221513390541077\n",
      "9800 0.7221513390541077\n",
      "9900 0.7221513390541077\n",
      "10000 0.7221513390541077\n"
     ]
    },
    {
     "data": {
      "text/plain": [
       "[<matplotlib.lines.Line2D at 0x275dfce7cc8>]"
      ]
     },
     "execution_count": 5,
     "metadata": {},
     "output_type": "execute_result"
    },
    {
     "data": {
      "image/png": "[encoded data removed]",
      "text/plain": [
       "<Figure size 432x288 with 1 Axes>"
      ]
     },
     "metadata": {
      "needs_background": "light"
     },
     "output_type": "display_data"
    }
   ],
   "source": [
    "Error_list = []\n",
    "\n",
    "for step in range(10001):\n",
    "    optimizer.zero_grad()\n",
    "    hypothesis = model(X)\n",
    "    \n",
    "    Error = Error_func(hypothesis, Y) # (NN의 Output, 실제값)\n",
    "    Error_list.append(Error.item())\n",
    "    Error.backward # 기울기 계산\n",
    "    optimizer.step() # 기울기 업데이트\n",
    "    \n",
    "    if step % 100 == 0:\n",
    "        print(step, Error.item())\n",
    "\n",
    "plt.plot(Error_list)"
   ]
  },
  {
   "cell_type": "code",
   "execution_count": 6,
   "id": "c4b6e12c",
   "metadata": {},
   "outputs": [
    {
     "name": "stdout",
     "output_type": "stream",
     "text": [
      "심층학습 후 예측값 : \n",
      " tensor([[0.4654],\n",
      "        [0.3914],\n",
      "        [0.3935],\n",
      "        [0.3239]], grad_fn=<SigmoidBackward>)\n"
     ]
    }
   ],
   "source": [
    "print(\"심층학습 후 예측값 : \\n\", hypothesis)"
   ]
  },
  {
   "cell_type": "markdown",
   "id": "b6c43012",
   "metadata": {},
   "source": [
    "# 2. XOR 문제 구현 - 다층 퍼셉트론"
   ]
  },
  {
   "cell_type": "code",
   "execution_count": 12,
   "id": "11461d91",
   "metadata": {},
   "outputs": [
    {
     "name": "stdout",
     "output_type": "stream",
     "text": [
      "딥러닝 모델의 초기 예측값 : \n",
      " tensor([[0.5746],\n",
      "        [0.5761],\n",
      "        [0.5749],\n",
      "        [0.5764]], grad_fn=<SigmoidBackward>)\n"
     ]
    }
   ],
   "source": [
    "model = nn.Sequential(\n",
    "            nn.Linear(2, 2, bias = True),\n",
    "            nn.Sigmoid(),\n",
    "            nn.Linear(2, 1, bias = True),\n",
    "            nn.Sigmoid()\n",
    "            ).to(device)\n",
    "\n",
    "Error_func = torch.nn.BCELoss().to(device)\n",
    "optimizer = torch.optim.SGD(model.parameters(), lr = 1)\n",
    "print(\"딥러닝 모델의 초기 예측값 : \\n\", model(X))"
   ]
  },
  {
   "cell_type": "code",
   "execution_count": 13,
   "id": "e35e07bc",
   "metadata": {
    "scrolled": false
   },
   "outputs": [
    {
     "name": "stdout",
     "output_type": "stream",
     "text": [
      "0 0.7046864032745361\n",
      "100 0.693143904209137\n",
      "200 0.6931347250938416\n",
      "300 0.6931177973747253\n",
      "400 0.6930813789367676\n",
      "500 0.692985475063324\n",
      "600 0.6926401853561401\n",
      "700 0.6905759572982788\n",
      "800 0.6724609732627869\n",
      "900 0.5953705906867981\n",
      "1000 0.5054583549499512\n",
      "1100 0.30456316471099854\n",
      "1200 0.10515540838241577\n",
      "1300 0.054874591529369354\n",
      "1400 0.036217100918293\n",
      "1500 0.026803676038980484\n",
      "1600 0.02118988335132599\n",
      "1700 0.017480909824371338\n",
      "1800 0.01485578715801239\n",
      "1900 0.012903778813779354\n",
      "2000 0.011397359892725945\n",
      "2100 0.010200736112892628\n",
      "2200 0.009227940812706947\n",
      "2300 0.008421977050602436\n",
      "2400 0.007743650581687689\n",
      "2500 0.007165009621530771\n",
      "2600 0.006665731780230999\n",
      "2700 0.0062306588515639305\n",
      "2800 0.005848269443958998\n",
      "2900 0.005509541369974613\n",
      "3000 0.005207464098930359\n",
      "3100 0.004936434794217348\n",
      "3200 0.0046919044107198715\n",
      "3300 0.004470188170671463\n",
      "3400 0.004268305841833353\n",
      "3500 0.004083657171577215\n",
      "3600 0.003914183005690575\n",
      "3700 0.0037580509670078754\n",
      "3800 0.0036138035356998444\n",
      "3900 0.0034801047295331955\n",
      "4000 0.003355903783813119\n",
      "4100 0.0032401056960225105\n",
      "4200 0.0031319898553192616\n",
      "4300 0.003030806314200163\n",
      "4400 0.0029359101317822933\n",
      "4500 0.002846702467650175\n",
      "4600 0.0027627029921859503\n",
      "4700 0.0026835070457309484\n",
      "4800 0.0026086801663041115\n",
      "4900 0.002537877531722188\n",
      "5000 0.0024707552511245012\n",
      "5100 0.002407117746770382\n",
      "5200 0.002346621360629797\n",
      "5300 0.002289086114615202\n",
      "5400 0.002234227489680052\n",
      "5500 0.002181955613195896\n",
      "5600 0.002132060704752803\n",
      "5700 0.0020843788515776396\n",
      "5800 0.002038774313405156\n",
      "5900 0.001995113678276539\n",
      "6000 0.0019532612059265375\n",
      "6100 0.0019131276058033109\n",
      "6200 0.0018745632842183113\n",
      "6300 0.0018375231884419918\n",
      "6400 0.0018019027775153518\n",
      "6500 0.001767671899870038\n",
      "6600 0.0017346813110634685\n",
      "6700 0.0017028858419507742\n",
      "6800 0.0016722111031413078\n",
      "6900 0.0016426865477114916\n",
      "7000 0.0016141179949045181\n",
      "7100 0.0015865056775510311\n",
      "7200 0.0015598791651427746\n",
      "7300 0.0015340592944994569\n",
      "7400 0.001509120687842369\n",
      "7500 0.001484943786635995\n",
      "7600 0.0014615582767874002\n",
      "7700 0.00143885996658355\n",
      "7800 0.0014168784255161881\n",
      "7900 0.0013955689501017332\n",
      "8000 0.001374797080643475\n",
      "8100 0.0013547418639063835\n",
      "8200 0.001335194450803101\n",
      "8300 0.0013162442483007908\n",
      "8400 0.0012977418955415487\n",
      "8500 0.0012798518873751163\n",
      "8600 0.0012623798102140427\n",
      "8700 0.0012454005191102624\n",
      "8800 0.0012288690777495503\n",
      "8900 0.0012127705849707127\n",
      "9000 0.001197045436128974\n",
      "9100 0.0011817828053608537\n",
      "9200 0.0011668488150462508\n",
      "9300 0.0011522879358381033\n",
      "9400 0.0011381302028894424\n",
      "9500 0.0011243007611483335\n",
      "9600 0.0011107699247077107\n",
      "9700 0.0010975823970511556\n",
      "9800 0.0010846933582797647\n",
      "9900 0.0010721029248088598\n",
      "10000 0.0010598107473924756\n"
     ]
    },
    {
     "data": {
      "text/plain": [
       "Text(0, 0.5, 'Error')"
      ]
     },
     "execution_count": 13,
     "metadata": {},
     "output_type": "execute_result"
    },
    {
     "data": {
      "image/png": "[encoded data removed]",
      "text/plain": [
       "<Figure size 432x288 with 1 Axes>"
      ]
     },
     "metadata": {
      "needs_background": "light"
     },
     "output_type": "display_data"
    }
   ],
   "source": [
    "Error_list = []\n",
    "\n",
    "for epoch in range(10001):\n",
    "    optimizer.zero_grad()\n",
    "    \n",
    "    hypothesis = model(X)\n",
    "    \n",
    "    Error = Error_func(hypothesis, Y)\n",
    "    Error.backward()\n",
    "    Error_list.append(Error.item())\n",
    "    optimizer.step()\n",
    "    \n",
    "    if epoch % 100 == 0:\n",
    "        print(epoch, Error.item())\n",
    "\n",
    "plt.plot(Error_list, color = 'red')\n",
    "plt.xlabel(\"Epoch\")\n",
    "plt.ylabel(\"Error\")"
   ]
  },
  {
   "cell_type": "code",
   "execution_count": 14,
   "id": "0d9253ed",
   "metadata": {
    "scrolled": false
   },
   "outputs": [
    {
     "name": "stdout",
     "output_type": "stream",
     "text": [
      "[('0.weight', Parameter containing:\n",
      "tensor([[7.9285, 7.9229],\n",
      "        [6.1080, 6.1070]], requires_grad=True)), ('0.bias', Parameter containing:\n",
      "tensor([-3.6671, -9.3303], requires_grad=True)), ('2.weight', Parameter containing:\n",
      "tensor([[ 14.7213, -15.5101]], requires_grad=True)), ('2.bias', Parameter containing:\n",
      "tensor([-6.9631], requires_grad=True))]\n"
     ]
    }
   ],
   "source": [
    "print(list(model.named_parameters()))"
   ]
  },
  {
   "cell_type": "code",
   "execution_count": 15,
   "id": "9fb27b52",
   "metadata": {
    "scrolled": false
   },
   "outputs": [
    {
     "name": "stdout",
     "output_type": "stream",
     "text": [
      "Layer: 0.weight | Size: torch.Size([2, 2]) | Values : tensor([[7.9285, 7.9229],\n",
      "        [6.1080, 6.1070]], grad_fn=<SliceBackward>) \n",
      "\n",
      "Layer: 0.bias | Size: torch.Size([2]) | Values : tensor([-3.6671, -9.3303], grad_fn=<SliceBackward>) \n",
      "\n",
      "Layer: 2.weight | Size: torch.Size([1, 2]) | Values : tensor([[ 14.7213, -15.5101]], grad_fn=<SliceBackward>) \n",
      "\n",
      "Layer: 2.bias | Size: torch.Size([1]) | Values : tensor([-6.9631], grad_fn=<SliceBackward>) \n",
      "\n"
     ]
    }
   ],
   "source": [
    "for name, param in model.named_parameters():\n",
    "    print(f\"Layer: {name} | Size: {param.size()} | Values : {param[:2]} \\n\")"
   ]
  },
  {
   "cell_type": "code",
   "execution_count": 16,
   "id": "94d49264",
   "metadata": {
    "scrolled": false
   },
   "outputs": [
    {
     "name": "stdout",
     "output_type": "stream",
     "text": [
      "딥러닝 학습 후 에측값 : \n",
      " tensor([[1.3616e-03],\n",
      "        [9.9905e-01],\n",
      "        [9.9905e-01],\n",
      "        [9.7584e-04]], grad_fn=<SigmoidBackward>)\n",
      "tensor([[0.],\n",
      "        [1.],\n",
      "        [1.],\n",
      "        [0.]])\n"
     ]
    }
   ],
   "source": [
    "print(\"딥러닝 학습 후 에측값 : \\n\", model(X))\n",
    "print((model(X) > 0.5).float())"
   ]
  }
 ],
 "metadata": {
  "kernelspec": {
   "display_name": "Python 3 (ipykernel)",
   "language": "python",
   "name": "python3"
  },
  "language_info": {
   "codemirror_mode": {
    "name": "ipython",
    "version": 3
   },
   "file_extension": ".py",
   "mimetype": "text/x-python",
   "name": "python",
   "nbconvert_exporter": "python",
   "pygments_lexer": "ipython3",
   "version": "3.7.11"
  }
 },
 "nbformat": 4,
 "nbformat_minor": 5
}
