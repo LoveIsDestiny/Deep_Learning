{
 "cells": [
  {
   "cell_type": "markdown",
   "id": "1cd61055",
   "metadata": {},
   "source": [
    "# numpy - 1차원 벡터 생성"
   ]
  },
  {
   "cell_type": "code",
   "execution_count": 8,
   "id": "0c4ae1bc",
   "metadata": {},
   "outputs": [
    {
     "name": "stdout",
     "output_type": "stream",
     "text": [
      "[1 2 3 4 5 6 7 8 9]\n",
      "Rank of t : 1\n",
      "size of t : (9,)\n"
     ]
    }
   ],
   "source": [
    "import numpy as np\n",
    "\n",
    "t = np.array([1,2,3,4,5,6,7,8,9])\n",
    "\n",
    "print(t)\n",
    "print('Rank of t :', t.ndim)\n",
    "print('size of t :', t.shape)"
   ]
  },
  {
   "cell_type": "markdown",
   "id": "ec65e461",
   "metadata": {},
   "source": [
    "# numpy - 2차원 행렬 생성"
   ]
  },
  {
   "cell_type": "code",
   "execution_count": 7,
   "id": "51365521",
   "metadata": {},
   "outputs": [
    {
     "name": "stdout",
     "output_type": "stream",
     "text": [
      "[[1 2 3]\n",
      " [4 5 6]\n",
      " [7 8 9]]\n",
      "Rank of t : 2\n",
      "Size of t : (3, 3)\n"
     ]
    }
   ],
   "source": [
    "t2 = np.array([[1,2,3],[4,5,6],[7,8,9]])\n",
    "\n",
    "print(t2)\n",
    "print('Rank of t :', t2.ndim)\n",
    "print('Size of t :', t2.shape)"
   ]
  },
  {
   "cell_type": "markdown",
   "id": "03d1546e",
   "metadata": {},
   "source": [
    "# torch - 1차원 벡터 생성"
   ]
  },
  {
   "cell_type": "code",
   "execution_count": 12,
   "id": "d2a5ad35",
   "metadata": {},
   "outputs": [
    {
     "name": "stdout",
     "output_type": "stream",
     "text": [
      "tensor([0., 1., 2., 3., 4., 5., 6., 7., 8., 9.])\n",
      "Rank of t : 1\n",
      "Size of t : torch.Size([10])\n"
     ]
    }
   ],
   "source": [
    "import torch\n",
    "\n",
    "t = torch.FloatTensor([0,1,2,3,4,5,6,7,8,9])\n",
    "\n",
    "print(t)\n",
    "print('Rank of t :', t.dim())\n",
    "print('Size of t :', t.size())"
   ]
  },
  {
   "cell_type": "markdown",
   "id": "aaa8134b",
   "metadata": {},
   "source": [
    "# torch - 2차원 행렬 생성"
   ]
  },
  {
   "cell_type": "code",
   "execution_count": 13,
   "id": "3f6f1836",
   "metadata": {
    "scrolled": true
   },
   "outputs": [
    {
     "name": "stdout",
     "output_type": "stream",
     "text": [
      "tensor([[1., 2., 3.],\n",
      "        [4., 5., 6.],\n",
      "        [7., 8., 9.]])\n",
      "Rank of t : 2\n",
      "Size of t : torch.Size([3, 3])\n"
     ]
    }
   ],
   "source": [
    "t2 = torch.FloatTensor([[1,2,3],[4,5,6],[7,8,9]])\n",
    "\n",
    "print(t2)\n",
    "print('Rank of t :', t2.dim())\n",
    "print('Size of t :', t2.size())"
   ]
  },
  {
   "cell_type": "code",
   "execution_count": 17,
   "id": "1bb9c8d0",
   "metadata": {
    "scrolled": true
   },
   "outputs": [
    {
     "name": "stdout",
     "output_type": "stream",
     "text": [
      "tensor([3., 6., 9.])\n",
      "torch.Size([3])\n"
     ]
    }
   ],
   "source": [
    "print(t2[:,2])\n",
    "print(t2[:,2].size())"
   ]
  },
  {
   "cell_type": "markdown",
   "id": "099bddf0",
   "metadata": {},
   "source": [
    "# 브로드캐스팅 (Broadcasting)"
   ]
  },
  {
   "cell_type": "code",
   "execution_count": 18,
   "id": "7a5741c7",
   "metadata": {
    "scrolled": true
   },
   "outputs": [
    {
     "name": "stdout",
     "output_type": "stream",
     "text": [
      "tensor([4., 6.])\n"
     ]
    }
   ],
   "source": [
    "m1 = torch.FloatTensor([1,2])\n",
    "m2 = torch.FloatTensor([3,4])\n",
    "\n",
    "print(m1 + m2)"
   ]
  },
  {
   "cell_type": "code",
   "execution_count": null,
   "id": "ae7d062d",
   "metadata": {},
   "outputs": [],
   "source": [
    "m1 = torch.FloatTensor([1,2])\n",
    "m2 = torch.FloatTensor([10])\n",
    "\n",
    "print(m1 + m2)"
   ]
  },
  {
   "cell_type": "code",
   "execution_count": 22,
   "id": "f0c4bc5c",
   "metadata": {
    "scrolled": true
   },
   "outputs": [
    {
     "name": "stdout",
     "output_type": "stream",
     "text": [
      "tensor([1., 2.])\n",
      "tensor([[3.],\n",
      "        [4.]])\n",
      "tensor([[4., 5.],\n",
      "        [5., 6.]])\n"
     ]
    }
   ],
   "source": [
    "m1 = torch.FloatTensor([1,2])\n",
    "m2 = torch.FloatTensor([[3], [4]])\n",
    "\n",
    "print(m1)\n",
    "print(m2)\n",
    "\n",
    "print(m1 + m2)"
   ]
  },
  {
   "cell_type": "markdown",
   "id": "b7b97d7b",
   "metadata": {},
   "source": [
    "# 행렬 곱셈 .matmul 과 원소별 곱셈 .mat"
   ]
  },
  {
   "cell_type": "code",
   "execution_count": 23,
   "id": "053e9482",
   "metadata": {
    "scrolled": true
   },
   "outputs": [
    {
     "name": "stdout",
     "output_type": "stream",
     "text": [
      "Shape of Matrix 1:  torch.Size([2, 2])\n",
      "Shape of Matrix 2:  torch.Size([2, 1])\n",
      "tensor([[ 5.],\n",
      "        [11.]])\n"
     ]
    }
   ],
   "source": [
    "m1 = torch.FloatTensor([[1, 2], [3, 4]])\n",
    "m2 = torch.FloatTensor([[1], [2]])\n",
    "print('Shape of Matrix 1: ', m1.shape) # 2 x 2\n",
    "print('Shape of Matrix 2: ', m2.shape) # 2 x 1\n",
    "print(m1.matmul(m2)) # m1 x m2"
   ]
  },
  {
   "cell_type": "code",
   "execution_count": 24,
   "id": "df85bd40",
   "metadata": {},
   "outputs": [
    {
     "name": "stdout",
     "output_type": "stream",
     "text": [
      "Shape of Matrix 1:  torch.Size([2, 2])\n",
      "Shape of Matrix 2:  torch.Size([2, 1])\n",
      "tensor([[1., 2.],\n",
      "        [6., 8.]])\n"
     ]
    }
   ],
   "source": [
    "m1 = torch.FloatTensor([[1, 2], [3, 4]])\n",
    "m2 = torch.FloatTensor([[1], [2]])\n",
    "print('Shape of Matrix 1: ', m1.shape) # 2 x 2\n",
    "print('Shape of Matrix 2: ', m2.shape) # 2 x 1\n",
    "print(m1.mul(m2))"
   ]
  },
  {
   "cell_type": "markdown",
   "id": "c50e58ec",
   "metadata": {},
   "source": [
    "# mean, sum, max, argmax"
   ]
  },
  {
   "cell_type": "markdown",
   "id": "2f124681",
   "metadata": {},
   "source": [
    "# 아그맥스(ArgMax)는 최대값을 가진 인덱스를 리턴."
   ]
  },
  {
   "cell_type": "code",
   "execution_count": 25,
   "id": "c80bf620",
   "metadata": {},
   "outputs": [],
   "source": [
    "m1 = torch.FloatTensor([[1, 2],\n",
    "                        [3, 4]])"
   ]
  },
  {
   "cell_type": "code",
   "execution_count": 40,
   "id": "7d2dec08",
   "metadata": {},
   "outputs": [
    {
     "name": "stdout",
     "output_type": "stream",
     "text": [
      "평균 : tensor(2.5000)\n",
      "각 열의 평균 : tensor([2., 3.])\n",
      "각 행의 평균 : tensor([1.5000, 3.5000])\n",
      "\n",
      "합 : tensor(10.)\n",
      "각 열의 합 : tensor([4., 6.])\n",
      "각 행의 합 : tensor([3., 7.])\n",
      "\n",
      "최댓값 :  tensor(4.)\n",
      "각 열의 최대값 : torch.return_types.max(\n",
      "values=tensor([3., 4.]),\n",
      "indices=tensor([1, 1]))\n",
      "Max:  tensor([3., 4.])\n",
      "Argmax:  tensor([1, 1])\n"
     ]
    }
   ],
   "source": [
    "print(\"평균 :\", m1.mean())\n",
    "print(\"각 열의 평균 :\", m1.mean(dim = 0)) # dim = 0 -> 행을 제거\n",
    "print(\"각 행의 평균 :\", m1.mean(dim = 1)) # dim = 1 -> 열을 제거 \n",
    "\n",
    "print()\n",
    "print(\"합 :\", m1.sum())\n",
    "print(\"각 열의 합 :\", m1.sum(dim = 0))\n",
    "print(\"각 행의 합 :\", m1.sum(dim = 1))\n",
    "\n",
    "print()\n",
    "print(\"최댓값 : \", m1.max())\n",
    "print(\"각 열의 최대값 :\", m1.max(dim = 0))\n",
    "print('Max: ', m1.max(dim=0)[0])\n",
    "print('Argmax: ', m1.max(dim=0)[1])"
   ]
  },
  {
   "cell_type": "code",
   "execution_count": null,
   "id": "6ae697c3",
   "metadata": {},
   "outputs": [],
   "source": []
  }
 ],
 "metadata": {
  "kernelspec": {
   "display_name": "Python 3 (ipykernel)",
   "language": "python",
   "name": "python3"
  },
  "language_info": {
   "codemirror_mode": {
    "name": "ipython",
    "version": 3
   },
   "file_extension": ".py",
   "mimetype": "text/x-python",
   "name": "python",
   "nbconvert_exporter": "python",
   "pygments_lexer": "ipython3",
   "version": "3.7.11"
  }
 },
 "nbformat": 4,
 "nbformat_minor": 5
}
