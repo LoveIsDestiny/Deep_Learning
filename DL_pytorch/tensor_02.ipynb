{
 "cells": [
  {
   "cell_type": "markdown",
   "id": "0f476948",
   "metadata": {},
   "source": [
    "# view. 원소의 개수를 유지하며 텐서의 크기를 변경\n",
    "\n",
    "# numpy의 reshape 와 유사"
   ]
  },
  {
   "cell_type": "code",
   "execution_count": 2,
   "id": "81c685be",
   "metadata": {
    "scrolled": true
   },
   "outputs": [
    {
     "name": "stdout",
     "output_type": "stream",
     "text": [
      "tensor([[[ 0.,  1.,  2.],\n",
      "         [ 3.,  4.,  5.]],\n",
      "\n",
      "        [[ 6.,  7.,  8.],\n",
      "         [ 9., 10., 11.]]])\n",
      "torch.Size([2, 2, 3])\n"
     ]
    }
   ],
   "source": [
    "import numpy as np\n",
    "import torch\n",
    "\n",
    "t = np.array([[[0, 1, 2],\n",
    "               [3, 4, 5]],\n",
    "              [[6, 7, 8],\n",
    "               [9, 10, 11]]])\n",
    "\n",
    "ft = torch.FloatTensor(t)\n",
    "print(ft)\n",
    "print(ft.size())"
   ]
  },
  {
   "cell_type": "markdown",
   "id": "86336b4a",
   "metadata": {},
   "source": [
    "# view를 사용해 3차원 텐서 -> 2차원 행렬"
   ]
  },
  {
   "cell_type": "code",
   "execution_count": 3,
   "id": "e036755c",
   "metadata": {
    "scrolled": true
   },
   "outputs": [
    {
     "name": "stdout",
     "output_type": "stream",
     "text": [
      "tensor([[ 0.,  1.,  2.],\n",
      "        [ 3.,  4.,  5.],\n",
      "        [ 6.,  7.,  8.],\n",
      "        [ 9., 10., 11.]])\n",
      "torch.Size([4, 3])\n"
     ]
    }
   ],
   "source": [
    "print(ft.view([-1, 3]))\n",
    "print(ft.view([-1, 3]).size())"
   ]
  },
  {
   "cell_type": "code",
   "execution_count": 4,
   "id": "365814ce",
   "metadata": {},
   "outputs": [
    {
     "name": "stdout",
     "output_type": "stream",
     "text": [
      "tensor([[[ 0.],\n",
      "         [ 1.],\n",
      "         [ 2.],\n",
      "         [ 3.],\n",
      "         [ 4.],\n",
      "         [ 5.]],\n",
      "\n",
      "        [[ 6.],\n",
      "         [ 7.],\n",
      "         [ 8.],\n",
      "         [ 9.],\n",
      "         [10.],\n",
      "         [11.]]])\n"
     ]
    }
   ],
   "source": [
    "print(ft.view([-1, 6, 1]))\n"
   ]
  },
  {
   "cell_type": "markdown",
   "id": "b03b3d7b",
   "metadata": {},
   "source": [
    "# view를 사용해 원소 수를 유지하며 reshape"
   ]
  },
  {
   "cell_type": "code",
   "execution_count": 3,
   "id": "fc6bd93d",
   "metadata": {
    "scrolled": false
   },
   "outputs": [
    {
     "name": "stdout",
     "output_type": "stream",
     "text": [
      "tensor([[[ 0.,  1.,  2.]],\n",
      "\n",
      "        [[ 3.,  4.,  5.]],\n",
      "\n",
      "        [[ 6.,  7.,  8.]],\n",
      "\n",
      "        [[ 9., 10., 11.]]])\n",
      "torch.Size([4, 1, 3])\n"
     ]
    }
   ],
   "source": [
    "print(ft.view([-1, 1, 3]))\n",
    "print(ft.view([-1, 1, 3]).size())"
   ]
  },
  {
   "cell_type": "markdown",
   "id": "15723d20",
   "metadata": {},
   "source": [
    "# 스퀴즈 - 1인 차원을 제거한다."
   ]
  },
  {
   "cell_type": "code",
   "execution_count": 4,
   "id": "dce60920",
   "metadata": {},
   "outputs": [
    {
     "name": "stdout",
     "output_type": "stream",
     "text": [
      "tensor([[0.],\n",
      "        [1.],\n",
      "        [2.]])\n",
      "torch.Size([3, 1])\n"
     ]
    }
   ],
   "source": [
    "ft = torch.FloatTensor([[0],\n",
    "                        [1],\n",
    "                        [2]])\n",
    "\n",
    "print(ft)\n",
    "print(ft.size())"
   ]
  },
  {
   "cell_type": "code",
   "execution_count": 6,
   "id": "f06c24d9",
   "metadata": {},
   "outputs": [
    {
     "name": "stdout",
     "output_type": "stream",
     "text": [
      "tensor([0., 1., 2.])\n",
      "torch.Size([3])\n"
     ]
    }
   ],
   "source": [
    "print(ft.squeeze())\n",
    "print(ft.squeeze().shape)"
   ]
  },
  {
   "cell_type": "markdown",
   "id": "27212292",
   "metadata": {},
   "source": [
    "# Unsqueeze - 특정 위치에 1인 차원을 추가"
   ]
  },
  {
   "cell_type": "code",
   "execution_count": 8,
   "id": "ade5da86",
   "metadata": {},
   "outputs": [
    {
     "name": "stdout",
     "output_type": "stream",
     "text": [
      "tensor([0., 1., 2.])\n",
      "torch.Size([3])\n"
     ]
    }
   ],
   "source": [
    "ft = torch.FloatTensor([0, 1, 2])\n",
    "print(ft)\n",
    "print(ft.size())"
   ]
  },
  {
   "cell_type": "code",
   "execution_count": 10,
   "id": "5d624f67",
   "metadata": {},
   "outputs": [
    {
     "name": "stdout",
     "output_type": "stream",
     "text": [
      "tensor([[0., 1., 2.]])\n",
      "torch.Size([1, 3])\n"
     ]
    }
   ],
   "source": [
    "print(ft.unsqueeze(0))\n",
    "print(ft.unsqueeze(0).size())"
   ]
  },
  {
   "cell_type": "code",
   "execution_count": 11,
   "id": "4fc47ccb",
   "metadata": {
    "scrolled": true
   },
   "outputs": [
    {
     "name": "stdout",
     "output_type": "stream",
     "text": [
      "tensor([[0.],\n",
      "        [1.],\n",
      "        [2.]])\n",
      "torch.Size([3, 1])\n"
     ]
    }
   ],
   "source": [
    "print(ft.unsqueeze(1))\n",
    "print(ft.unsqueeze(1).size())"
   ]
  },
  {
   "cell_type": "markdown",
   "id": "b708d6bd",
   "metadata": {},
   "source": [
    "#  자료형\n",
    "### torch.FloatTensor - 32bit 부동 소수점\n",
    "### torch.LongTensor - 64bit 정수\n",
    "### torch.cuda.FloatTensor - GPU 연산 자료형"
   ]
  },
  {
   "cell_type": "code",
   "execution_count": 12,
   "id": "5505ce7f",
   "metadata": {},
   "outputs": [
    {
     "name": "stdout",
     "output_type": "stream",
     "text": [
      "tensor([1, 2, 3, 4])\n"
     ]
    }
   ],
   "source": [
    "lt = torch.LongTensor([1, 2, 3, 4])\n",
    "print(lt)"
   ]
  },
  {
   "cell_type": "code",
   "execution_count": 14,
   "id": "8f2fa6dc",
   "metadata": {
    "scrolled": true
   },
   "outputs": [
    {
     "name": "stdout",
     "output_type": "stream",
     "text": [
      "tensor([1., 2., 3., 4.])\n"
     ]
    }
   ],
   "source": [
    "print(lt.float()) # long -> float"
   ]
  },
  {
   "cell_type": "code",
   "execution_count": 15,
   "id": "bbcbf999",
   "metadata": {},
   "outputs": [
    {
     "name": "stdout",
     "output_type": "stream",
     "text": [
      "tensor([1, 0, 0, 1], dtype=torch.uint8)\n"
     ]
    }
   ],
   "source": [
    "bt = torch.ByteTensor([True, False, False, True])\n",
    "print(bt)"
   ]
  },
  {
   "cell_type": "code",
   "execution_count": 17,
   "id": "126f8461",
   "metadata": {},
   "outputs": [
    {
     "name": "stdout",
     "output_type": "stream",
     "text": [
      "tensor([1, 0, 0, 1])\n",
      "tensor([1., 0., 0., 1.])\n"
     ]
    }
   ],
   "source": [
    "print(bt.long())\n",
    "print(bt.float())"
   ]
  },
  {
   "cell_type": "markdown",
   "id": "3d1cd467",
   "metadata": {},
   "source": [
    "# concatenate"
   ]
  },
  {
   "cell_type": "code",
   "execution_count": 18,
   "id": "d61314f5",
   "metadata": {},
   "outputs": [],
   "source": [
    "x = torch.FloatTensor([[1, 2],\n",
    "                       [3, 4]])\n",
    "y = torch.FloatTensor([[5, 6],\n",
    "                       [7, 8]])"
   ]
  },
  {
   "cell_type": "code",
   "execution_count": 20,
   "id": "22375ad8",
   "metadata": {},
   "outputs": [
    {
     "name": "stdout",
     "output_type": "stream",
     "text": [
      "tensor([[1., 2.],\n",
      "        [3., 4.],\n",
      "        [5., 6.],\n",
      "        [7., 8.]])\n",
      "torch.Size([4, 2])\n"
     ]
    }
   ],
   "source": [
    "print(torch.cat([x, y], dim = 0)) # dim = 0은 첫번째 차원을 늘려서 연결\n",
    "print(torch.cat([x, y], dim = 0).size())"
   ]
  },
  {
   "cell_type": "code",
   "execution_count": 21,
   "id": "2fef6851",
   "metadata": {
    "scrolled": true
   },
   "outputs": [
    {
     "name": "stdout",
     "output_type": "stream",
     "text": [
      "tensor([[1., 2., 5., 6.],\n",
      "        [3., 4., 7., 8.]])\n",
      "torch.Size([2, 4])\n"
     ]
    }
   ],
   "source": [
    "print(torch.cat([x, y], dim = 1)) # dim = 1은 두번째 차원을 늘려서 연결\n",
    "print(torch.cat([x, y], dim = 1).size())"
   ]
  },
  {
   "cell_type": "markdown",
   "id": "1a3a3284",
   "metadata": {},
   "source": [
    "# Stacking"
   ]
  },
  {
   "cell_type": "code",
   "execution_count": 22,
   "id": "887e78f5",
   "metadata": {},
   "outputs": [],
   "source": [
    "x = torch.FloatTensor([1, 4])\n",
    "y = torch.FloatTensor([2, 5])\n",
    "z = torch.FloatTensor([3, 6])"
   ]
  },
  {
   "cell_type": "code",
   "execution_count": 24,
   "id": "152c4a26",
   "metadata": {},
   "outputs": [
    {
     "name": "stdout",
     "output_type": "stream",
     "text": [
      "tensor([[1., 4.],\n",
      "        [2., 5.],\n",
      "        [3., 6.]])\n"
     ]
    }
   ],
   "source": [
    "print(torch.stack([x, y, z]))"
   ]
  },
  {
   "cell_type": "code",
   "execution_count": 25,
   "id": "3b490acc",
   "metadata": {
    "scrolled": true
   },
   "outputs": [
    {
     "name": "stdout",
     "output_type": "stream",
     "text": [
      "tensor([[1., 2., 3.],\n",
      "        [4., 5., 6.]])\n"
     ]
    }
   ],
   "source": [
    "print(torch.stack([x, y, z], dim = 1))"
   ]
  },
  {
   "cell_type": "markdown",
   "id": "18a8d509",
   "metadata": {},
   "source": [
    "# ones_like, zeros_like"
   ]
  },
  {
   "cell_type": "code",
   "execution_count": 26,
   "id": "1d1236c9",
   "metadata": {},
   "outputs": [
    {
     "name": "stdout",
     "output_type": "stream",
     "text": [
      "tensor([[0., 1., 2.],\n",
      "        [2., 1., 0.]])\n"
     ]
    }
   ],
   "source": [
    "x = torch.FloatTensor([[0, 1, 2], [2, 1, 0]])\n",
    "print(x)"
   ]
  },
  {
   "cell_type": "code",
   "execution_count": 27,
   "id": "1d8640c3",
   "metadata": {},
   "outputs": [
    {
     "name": "stdout",
     "output_type": "stream",
     "text": [
      "tensor([[1., 1., 1.],\n",
      "        [1., 1., 1.]])\n"
     ]
    }
   ],
   "source": [
    "print(torch.ones_like(x))"
   ]
  },
  {
   "cell_type": "code",
   "execution_count": 28,
   "id": "72a657b4",
   "metadata": {},
   "outputs": [
    {
     "name": "stdout",
     "output_type": "stream",
     "text": [
      "tensor([[0., 0., 0.],\n",
      "        [0., 0., 0.]])\n"
     ]
    }
   ],
   "source": [
    "print(torch.zeros_like(x))"
   ]
  },
  {
   "cell_type": "markdown",
   "id": "8df2f1ec",
   "metadata": {},
   "source": [
    "# In-place Operation "
   ]
  },
  {
   "cell_type": "code",
   "execution_count": 30,
   "id": "5ca851bf",
   "metadata": {},
   "outputs": [
    {
     "name": "stdout",
     "output_type": "stream",
     "text": [
      "tensor([[2., 4.],\n",
      "        [6., 8.]])\n",
      "tensor([[1., 2.],\n",
      "        [3., 4.]])\n"
     ]
    }
   ],
   "source": [
    "x = torch.FloatTensor([[1, 2],\n",
    "                       [3, 4]])\n",
    "\n",
    "print(x.mul(2))\n",
    "print(x)"
   ]
  },
  {
   "cell_type": "code",
   "execution_count": 32,
   "id": "e9f72c24",
   "metadata": {},
   "outputs": [
    {
     "name": "stdout",
     "output_type": "stream",
     "text": [
      "tensor([[2., 4.],\n",
      "        [6., 8.]])\n",
      "tensor([[2., 4.],\n",
      "        [6., 8.]])\n"
     ]
    }
   ],
   "source": [
    "x = torch.FloatTensor([[1, 2],\n",
    "                       [3, 4]])\n",
    "\n",
    "print(x.mul_(2))\n",
    "print(x)"
   ]
  }
 ],
 "metadata": {
  "kernelspec": {
   "display_name": "Python 3 (ipykernel)",
   "language": "python",
   "name": "python3"
  },
  "language_info": {
   "codemirror_mode": {
    "name": "ipython",
    "version": 3
   },
   "file_extension": ".py",
   "mimetype": "text/x-python",
   "name": "python",
   "nbconvert_exporter": "python",
   "pygments_lexer": "ipython3",
   "version": "3.7.11"
  }
 },
 "nbformat": 4,
 "nbformat_minor": 5
}
