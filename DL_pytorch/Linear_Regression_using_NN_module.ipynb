{
 "cells": [
  {
   "cell_type": "markdown",
   "id": "374f34b1",
   "metadata": {},
   "source": [
    "# 1. 선형회귀"
   ]
  },
  {
   "cell_type": "code",
   "execution_count": null,
   "id": "76729882",
   "metadata": {},
   "outputs": [],
   "source": [
    "# 데이터\n",
    "x_train = torch.FloatTensor([[1], [2], [3]])\n",
    "y_train = torch.FloatTensor([[2], [4], [6]])\n",
    "# 모델 초기화\n",
    "W = torch.zeros(1, requires_grad=True)\n",
    "b = torch.zeros(1, requires_grad=True)\n",
    "# optimizer 설정\n",
    "optimizer = optim.SGD([W, b], lr=0.01)\n",
    "\n",
    "nb_epochs = 1999 # 원하는만큼 경사 하강법을 반복\n",
    "for epoch in range(nb_epochs + 1):\n",
    "\n",
    "    # H(x) 계산\n",
    "    hypothesis = x_train * W + b\n",
    "\n",
    "    # cost 계산\n",
    "    cost = torch.mean((hypothesis - y_train) ** 2)\n",
    "\n",
    "    # cost로 H(x) 개선\n",
    "    optimizer.zero_grad()\n",
    "    cost.backward()\n",
    "    optimizer.step()\n",
    "\n",
    "    # 100번마다 로그 출력\n",
    "    if epoch % 100 == 0:\n",
    "        print('Epoch {:4d}/{} W: {:.3f}, b: {:.3f} Cost: {:.6f}'.format(\n",
    "            epoch, nb_epochs, W.item(), b.item(), cost.item()\n",
    "        ))"
   ]
  },
  {
   "cell_type": "markdown",
   "id": "ffeaebed",
   "metadata": {},
   "source": [
    "# 2. NN 모듈을 사용한 선형회귀 구현"
   ]
  },
  {
   "cell_type": "code",
   "execution_count": 1,
   "id": "9a832969",
   "metadata": {},
   "outputs": [
    {
     "data": {
      "text/plain": [
       "<torch._C.Generator at 0x24b73a3cab0>"
      ]
     },
     "execution_count": 1,
     "metadata": {},
     "output_type": "execute_result"
    }
   ],
   "source": [
    "import torch\n",
    "import torch.nn as nn\n",
    "import torch.nn.functional as F\n",
    "import matplotlib.pyplot as plt\n",
    "\n",
    "torch.manual_seed(1)"
   ]
  },
  {
   "cell_type": "code",
   "execution_count": 2,
   "id": "fadc7a01",
   "metadata": {},
   "outputs": [],
   "source": [
    "x_train = torch.FloatTensor([[1], [2], [3]])\n",
    "y_train = torch.FloatTensor([[2], [4], [6]])"
   ]
  },
  {
   "cell_type": "markdown",
   "id": "5ad770af",
   "metadata": {},
   "source": [
    "### nn.Linear() 는 파라미터 (가중치) 초깃값을 랜덤하게 지정. (seed 로 고정함)"
   ]
  },
  {
   "cell_type": "code",
   "execution_count": 3,
   "id": "ebf19445",
   "metadata": {},
   "outputs": [
    {
     "name": "stdout",
     "output_type": "stream",
     "text": [
      "[Parameter containing:\n",
      "tensor([[0.5153]], requires_grad=True), Parameter containing:\n",
      "tensor([-0.4414], requires_grad=True)]\n"
     ]
    }
   ],
   "source": [
    "model = nn.Linear(1, 1, bias = True)\n",
    "\n",
    "print(list(model.parameters()))"
   ]
  },
  {
   "cell_type": "code",
   "execution_count": 4,
   "id": "2c3362a6",
   "metadata": {},
   "outputs": [],
   "source": [
    "optimizer = torch.optim.SGD(model.parameters(), lr = 0.01)"
   ]
  },
  {
   "cell_type": "code",
   "execution_count": 5,
   "id": "c92c1730",
   "metadata": {
    "scrolled": true
   },
   "outputs": [
    {
     "name": "stdout",
     "output_type": "stream",
     "text": [
      "Epoch    0/2000 Error 13.103541\n",
      "Epoch  100/2000 Error 0.002791\n",
      "Epoch  200/2000 Error 0.001724\n",
      "Epoch  300/2000 Error 0.001066\n",
      "Epoch  400/2000 Error 0.000658\n",
      "Epoch  500/2000 Error 0.000407\n",
      "Epoch  600/2000 Error 0.000251\n",
      "Epoch  700/2000 Error 0.000155\n",
      "Epoch  800/2000 Error 0.000096\n",
      "Epoch  900/2000 Error 0.000059\n",
      "Epoch 1000/2000 Error 0.000037\n",
      "Epoch 1100/2000 Error 0.000023\n",
      "Epoch 1200/2000 Error 0.000014\n",
      "Epoch 1300/2000 Error 0.000009\n",
      "Epoch 1400/2000 Error 0.000005\n",
      "Epoch 1500/2000 Error 0.000003\n",
      "Epoch 1600/2000 Error 0.000002\n",
      "Epoch 1700/2000 Error 0.000001\n",
      "Epoch 1800/2000 Error 0.000001\n",
      "Epoch 1900/2000 Error 0.000000\n",
      "Epoch 2000/2000 Error 0.000000\n"
     ]
    },
    {
     "data": {
      "image/png": "[encoded data removed]",
      "text/plain": [
       "<Figure size 432x288 with 1 Axes>"
      ]
     },
     "metadata": {
      "needs_background": "light"
     },
     "output_type": "display_data"
    }
   ],
   "source": [
    "nb_epochs = 2000\n",
    "error_list = []\n",
    "\n",
    "for epoch in range(nb_epochs + 1):\n",
    "    \n",
    "    prediction = model(x_train)\n",
    "    \n",
    "    error = F.mse_loss(prediction, y_train)\n",
    "    error_list.append(error.item()) # error.item() 은 텐서로 반환된 값을 일반적인 파이썬 숫자로 반환.\n",
    "    \n",
    "    optimizer.zero_grad() # gradient 0으로 초기화\n",
    "    \n",
    "    error.backward()\n",
    "    \n",
    "    optimizer.step() # update weight\n",
    "\n",
    "    if epoch % 100 == 0 :\n",
    "        print('Epoch {:4d}/{} Error {:.6f}'.format(\n",
    "            epoch, nb_epochs, error.item()\n",
    "        ))\n",
    "    \n",
    "plt.plot(error_list) \n",
    "plt.ylabel(\"Error\")\n",
    "plt.xlabel(\"Epoch\")\n",
    "plt.show()"
   ]
  },
  {
   "cell_type": "code",
   "execution_count": 6,
   "id": "cb0d5f5c",
   "metadata": {},
   "outputs": [
    {
     "name": "stdout",
     "output_type": "stream",
     "text": [
      "tensor([[7.9989]], grad_fn=<AddmmBackward0>)\n"
     ]
    }
   ],
   "source": [
    "# Model이 최적화 되었는지 테스트\n",
    "\n",
    "new_var = torch.FloatTensor([[4.0]])\n",
    "\n",
    "pred_y = model(new_var)\n",
    "\n",
    "print(pred_y)"
   ]
  },
  {
   "cell_type": "code",
   "execution_count": 7,
   "id": "e175f7be",
   "metadata": {},
   "outputs": [
    {
     "name": "stdout",
     "output_type": "stream",
     "text": [
      "[('weight', Parameter containing:\n",
      "tensor([[1.9994]], requires_grad=True)), ('bias', Parameter containing:\n",
      "tensor([0.0014], requires_grad=True))]\n"
     ]
    }
   ],
   "source": [
    "# Parameters of after minimze\n",
    "\n",
    "print(list(model.named_parameters()))"
   ]
  },
  {
   "cell_type": "markdown",
   "id": "fbcf2369",
   "metadata": {},
   "source": [
    "# NN 모듈을 이용한 다중선형회귀 구현"
   ]
  },
  {
   "cell_type": "code",
   "execution_count": 95,
   "id": "6cf5963d",
   "metadata": {},
   "outputs": [],
   "source": [
    "x_train = torch.FloatTensor([[73, 80, 75],\n",
    "                             [93, 88, 93],\n",
    "                             [89, 91, 90],\n",
    "                             [96, 98, 100],\n",
    "                             [73, 66, 70]])\n",
    "y_train = torch.FloatTensor([[152], [185], [180], [196], [142]])"
   ]
  },
  {
   "cell_type": "code",
   "execution_count": 96,
   "id": "809893ee",
   "metadata": {
    "scrolled": true
   },
   "outputs": [
    {
     "name": "stdout",
     "output_type": "stream",
     "text": [
      "[Parameter containing:\n",
      "tensor([[ 0.2975, -0.2548, -0.1119]], requires_grad=True), Parameter containing:\n",
      "tensor([0.2710], requires_grad=True)]\n"
     ]
    }
   ],
   "source": [
    "model = nn.Linear(3, 1)\n",
    "\n",
    "torch.manual_seed(1)\n",
    "print(list(model.parameters()))"
   ]
  },
  {
   "cell_type": "code",
   "execution_count": 97,
   "id": "0290e054",
   "metadata": {
    "scrolled": true
   },
   "outputs": [
    {
     "name": "stdout",
     "output_type": "stream",
     "text": [
      "Epoch    0/2000 Error 31667.599609\n",
      "Epoch  100/2000 Error 0.225993\n",
      "Epoch  200/2000 Error 0.223911\n",
      "Epoch  300/2000 Error 0.221941\n",
      "Epoch  400/2000 Error 0.220059\n",
      "Epoch  500/2000 Error 0.218271\n",
      "Epoch  600/2000 Error 0.216575\n",
      "Epoch  700/2000 Error 0.214950\n",
      "Epoch  800/2000 Error 0.213413\n",
      "Epoch  900/2000 Error 0.211952\n",
      "Epoch 1000/2000 Error 0.210559\n",
      "Epoch 1100/2000 Error 0.209230\n",
      "Epoch 1200/2000 Error 0.207967\n",
      "Epoch 1300/2000 Error 0.206762\n",
      "Epoch 1400/2000 Error 0.205618\n",
      "Epoch 1500/2000 Error 0.204529\n",
      "Epoch 1600/2000 Error 0.203481\n",
      "Epoch 1700/2000 Error 0.202486\n",
      "Epoch 1800/2000 Error 0.201539\n",
      "Epoch 1900/2000 Error 0.200634\n",
      "Epoch 2000/2000 Error 0.199770\n"
     ]
    },
    {
     "data": {
      "image/png": "[encoded data removed]",
      "text/plain": [
       "<Figure size 432x288 with 1 Axes>"
      ]
     },
     "metadata": {
      "needs_background": "light"
     },
     "output_type": "display_data"
    }
   ],
   "source": [
    "optimizer = torch.optim.SGD(model.parameters(), lr = 0.00001)\n",
    "error_list = []\n",
    "\n",
    "nb_epochs = 2000\n",
    "for epoch in range(nb_epochs + 1) :\n",
    "    \n",
    "    prediction = model(x_train)\n",
    "    \n",
    "    error = F.mse_loss(prediction, y_train)\n",
    "    error_list.append(error.item())\n",
    "    \n",
    "    optimizer.zero_grad()\n",
    "    \n",
    "    error.backward()\n",
    "    \n",
    "    optimizer.step()\n",
    "    \n",
    "    if epoch % 100 == 0 :\n",
    "        print('Epoch {:4d}/{} Error {:.6f}'.format(\n",
    "            epoch, nb_epochs, error.item()\n",
    "        ))\n",
    "    \n",
    "plt.plot(error_list)\n",
    "plt.ylabel(\"Error\")\n",
    "plt.xlabel(\"Epoch\")\n",
    "plt.show()"
   ]
  },
  {
   "cell_type": "code",
   "execution_count": 98,
   "id": "bb2e11cf",
   "metadata": {},
   "outputs": [
    {
     "name": "stdout",
     "output_type": "stream",
     "text": [
      "tensor([[156.9489]], grad_fn=<AddmmBackward0>)\n"
     ]
    }
   ],
   "source": [
    "new_var = torch.FloatTensor([[70, 80, 90]])\n",
    "\n",
    "pred_y = model(new_var)\n",
    "\n",
    "print(pred_y)"
   ]
  },
  {
   "cell_type": "code",
   "execution_count": 99,
   "id": "5d8f3088",
   "metadata": {},
   "outputs": [
    {
     "name": "stdout",
     "output_type": "stream",
     "text": [
      "[Parameter containing:\n",
      "tensor([[0.9778, 0.4539, 0.5768]], requires_grad=True), Parameter containing:\n",
      "tensor([0.2802], requires_grad=True)]\n"
     ]
    }
   ],
   "source": [
    "print(list(model.parameters()))"
   ]
  }
 ],
 "metadata": {
  "kernelspec": {
   "display_name": "Python 3 (ipykernel)",
   "language": "python",
   "name": "python3"
  },
  "language_info": {
   "codemirror_mode": {
    "name": "ipython",
    "version": 3
   },
   "file_extension": ".py",
   "mimetype": "text/x-python",
   "name": "python",
   "nbconvert_exporter": "python",
   "pygments_lexer": "ipython3",
   "version": "3.7.11"
  }
 },
 "nbformat": 4,
 "nbformat_minor": 5
}
