{
  "nbformat": 4,
  "nbformat_minor": 0,
  "metadata": {
    "colab": {
      "name": "images_classification.ipynb",
      "provenance": [],
      "collapsed_sections": [],
      "authorship_tag": "ABX9TyNN7biYApf+ihLjltV3QsGK",
      "include_colab_link": true
    },
    "kernelspec": {
      "name": "python3",
      "display_name": "Python 3"
    },
    "language_info": {
      "name": "python"
    }
  },
  "cells": [
    {
      "cell_type": "markdown",
      "metadata": {
        "id": "view-in-github",
        "colab_type": "text"
      },
      "source": [
        "<a href=\"https://colab.research.google.com/github/LoveIsDestiny/Deep_Learning/blob/main/images_classification.ipynb\" target=\"_parent\"><img src=\"https://colab.research.google.com/assets/colab-badge.svg\" alt=\"Open In Colab\"/></a>"
      ]
    },
    {
      "cell_type": "code",
      "execution_count": null,
      "metadata": {
        "colab": {
          "base_uri": "https://localhost:8080/"
        },
        "id": "NY60jUxOIdjX",
        "outputId": "f94385a6-c789-4e28-ed24-e52332f09845"
      },
      "outputs": [
        {
          "output_type": "stream",
          "name": "stdout",
          "text": [
            "[[ 0.  0.  5. 13.  9.  1.  0.  0.]\n",
            " [ 0.  0. 13. 15. 10. 15.  5.  0.]\n",
            " [ 0.  3. 15.  2.  0. 11.  8.  0.]\n",
            " [ 0.  4. 12.  0.  0.  8.  8.  0.]\n",
            " [ 0.  5.  8.  0.  0.  9.  8.  0.]\n",
            " [ 0.  4. 11.  0.  1. 12.  7.  0.]\n",
            " [ 0.  2. 14.  5. 10. 12.  0.  0.]\n",
            " [ 0.  0.  6. 13. 10.  0.  0.  0.]]\n",
            "0\n",
            "1797\n"
          ]
        }
      ],
      "source": [
        "import matplotlib.pyplot as plt\n",
        "from sklearn.datasets import load_digits\n",
        "\n",
        "digits = load_digits()\n",
        "print(digits.images[0])\n",
        "print(digits.target[0])\n",
        "print(len(digits.images))"
      ]
    },
    {
      "cell_type": "code",
      "source": [
        "data = list(zip(digits.images, digits.target))\n",
        "for i , (image, label) in enumerate(data[:12]):\n",
        "   # 5개 샘플만 출력\n",
        "   plt.subplot(1, 12, i + 1)\n",
        "   plt.axis(\"off\")\n",
        "   plt.imshow(image, cmap=plt.cm.gray_r)\n",
        "   plt.title(\"sample{}:\".format(label))"
      ],
      "metadata": {
        "colab": {
          "base_uri": "https://localhost:8080/",
          "height": 70
        },
        "id": "9A1xRJLmJfrX",
        "outputId": "dae53964-3c8b-4a19-bd75-52a94278c381"
      },
      "execution_count": null,
      "outputs": [
        {
          "output_type": "display_data",
          "data": {
            "text/plain": [
              "<Figure size 432x288 with 12 Axes>"
            ],
            "image/png": "[encoded data removed]"
          },
          "metadata": {
            "needs_background": "light"
          }
        }
      ]
    },
    {
      "cell_type": "code",
      "source": [
        "# digits.image 는 8x8 행렬이고 data는 64 길이의 벡터로 저장\n",
        "print(digits.data[0])\n",
        "\n",
        "X = digits.data\n",
        "Y = digits.target"
      ],
      "metadata": {
        "colab": {
          "base_uri": "https://localhost:8080/"
        },
        "id": "9_j91Z3tMXAl",
        "outputId": "bb4b1933-3ff3-45aa-fd0c-1681cffac544"
      },
      "execution_count": null,
      "outputs": [
        {
          "output_type": "stream",
          "name": "stdout",
          "text": [
            "[ 0.  0.  5. 13.  9.  1.  0.  0.  0.  0. 13. 15. 10. 15.  5.  0.  0.  3.\n",
            " 15.  2.  0. 11.  8.  0.  0.  4. 12.  0.  0.  8.  8.  0.  0.  5.  8.  0.\n",
            "  0.  9.  8.  0.  0.  4. 11.  0.  1. 12.  7.  0.  0.  2. 14.  5. 10. 12.\n",
            "  0.  0.  0.  0.  6. 13. 10.  0.  0.  0.]\n"
          ]
        }
      ]
    },
    {
      "cell_type": "code",
      "source": [
        "import torch\n",
        "import torch.nn as nn\n",
        "from torch import optim\n",
        "import torch.nn.functional as F\n",
        "\n",
        "device_2 = 'cuda'if torch.cuda.is_available() else 'cpu'\n",
        "torch.manual_seed(1)\n",
        "if device_2 == 'cuda' :\n",
        "    torch.cuda.manual_seed_all(1)\n",
        "print(device_2)"
      ],
      "metadata": {
        "colab": {
          "base_uri": "https://localhost:8080/"
        },
        "id": "xDUuPx_rNW0a",
        "outputId": "99af9155-9a51-4a6d-dd2a-79236d529d46"
      },
      "execution_count": null,
      "outputs": [
        {
          "output_type": "stream",
          "name": "stdout",
          "text": [
            "cpu\n"
          ]
        }
      ]
    },
    {
      "cell_type": "code",
      "source": [
        "X = torch.tensor(X, dtype = torch.float32)\n",
        "Y = torch.tensor(Y, dtype = torch.int64)\n",
        "\n",
        "print(X[0])"
      ],
      "metadata": {
        "colab": {
          "base_uri": "https://localhost:8080/"
        },
        "id": "7o2XLQD0Rgpk",
        "outputId": "866c844c-6e0a-4f7e-efb2-eca4e8a74c63"
      },
      "execution_count": null,
      "outputs": [
        {
          "output_type": "stream",
          "name": "stdout",
          "text": [
            "tensor([ 0.,  0.,  5., 13.,  9.,  1.,  0.,  0.,  0.,  0., 13., 15., 10., 15.,\n",
            "         5.,  0.,  0.,  3., 15.,  2.,  0., 11.,  8.,  0.,  0.,  4., 12.,  0.,\n",
            "         0.,  8.,  8.,  0.,  0.,  5.,  8.,  0.,  0.,  9.,  8.,  0.,  0.,  4.,\n",
            "        11.,  0.,  1., 12.,  7.,  0.,  0.,  2., 14.,  5., 10., 12.,  0.,  0.,\n",
            "         0.,  0.,  6., 13., 10.,  0.,  0.,  0.])\n"
          ]
        },
        {
          "output_type": "stream",
          "name": "stderr",
          "text": [
            "/usr/local/lib/python3.7/dist-packages/ipykernel_launcher.py:1: UserWarning: To copy construct from a tensor, it is recommended to use sourceTensor.clone().detach() or sourceTensor.clone().detach().requires_grad_(True), rather than torch.tensor(sourceTensor).\n",
            "  \"\"\"Entry point for launching an IPython kernel.\n",
            "/usr/local/lib/python3.7/dist-packages/ipykernel_launcher.py:2: UserWarning: To copy construct from a tensor, it is recommended to use sourceTensor.clone().detach() or sourceTensor.clone().detach().requires_grad_(True), rather than torch.tensor(sourceTensor).\n",
            "  \n"
          ]
        }
      ]
    },
    {
      "cell_type": "code",
      "source": [
        "model = nn.Sequential(\n",
        "          nn.Linear(64, 32, bias = True),\n",
        "          nn.ReLU(),\n",
        "          nn.Linear(32, 16, bias = True ),\n",
        "          nn.ReLU(),\n",
        "          nn.Linear(16, 10, bias = True)\n",
        "          nn.ReLU()\n",
        ").to(device_2)\n",
        "Error_func = torch.nn.CrossEntropyLoss().to(device_2)\n",
        "optimizer = torch.optim.SGD(model.parameters(), lr = 0.1)\n",
        "optimizer.zero_grad()\n"
      ],
      "metadata": {
        "id": "qH_jWJvHNwnD"
      },
      "execution_count": null,
      "outputs": []
    },
    {
      "cell_type": "code",
      "source": [
        "Error_list = []\n",
        "\n",
        "for epoch in range(10001):\n",
        "    optimizer.zero_grad()\n",
        "    Error = Error_func(model(X), Y)\n",
        "    Error.backward()\n",
        "    Error_list.append(Error.item())\n",
        "    optimizer.step()\n",
        "    \n",
        "    if epoch % 100 == 0:\n",
        "        print(epoch, Error.item())\n",
        "\n",
        "plt.plot(Error_list, color = 'red')\n",
        "plt.xlabel(\"Epoch\")\n",
        "plt.ylabel(\"Error\")"
      ],
      "metadata": {
        "colab": {
          "base_uri": "https://localhost:8080/",
          "height": 1000
        },
        "id": "w-xSYBvQQSuR",
        "outputId": "bfdea2f6-208a-42b6-b17a-5462127da33f"
      },
      "execution_count": null,
      "outputs": [
        {
          "output_type": "stream",
          "name": "stdout",
          "text": [
            "0 2.378633499145508\n",
            "100 0.10828381031751633\n",
            "200 0.040248434990644455\n",
            "300 0.022031627595424652\n",
            "400 0.014446958899497986\n",
            "500 0.010224651545286179\n",
            "600 0.007615898735821247\n",
            "700 0.00589272053912282\n",
            "800 0.004701620899140835\n",
            "900 0.003839345881715417\n",
            "1000 0.003196945646777749\n",
            "1100 0.0027140697930008173\n",
            "1200 0.0023402650840580463\n",
            "1300 0.002047202317044139\n",
            "1400 0.0018119537271559238\n",
            "1500 0.0016182041727006435\n",
            "1600 0.001458798418752849\n",
            "1700 0.00132481730543077\n",
            "1800 0.0012109855888411403\n",
            "1900 0.0011132466606795788\n",
            "2000 0.0010285202879458666\n",
            "2100 0.000954117625951767\n",
            "2200 0.0008888477459549904\n",
            "2300 0.0008310482953675091\n",
            "2400 0.0007793870172463357\n",
            "2500 0.0007332050590775907\n",
            "2600 0.0006915921112522483\n",
            "2700 0.0006539853638969362\n",
            "2800 0.0006199459312483668\n",
            "2900 0.0005888952291570604\n",
            "3000 0.0005605138721875846\n",
            "3100 0.0005344519740901887\n",
            "3200 0.000510484678670764\n",
            "3300 0.0004884309601038694\n",
            "3400 0.0004679648263845593\n",
            "3500 0.00044899279600940645\n",
            "3600 0.00043134219595231116\n",
            "3700 0.000414906331570819\n",
            "3800 0.0003995857259724289\n",
            "3900 0.00038518206565640867\n",
            "4000 0.0003717360377777368\n",
            "4100 0.00035912421299144626\n",
            "4200 0.00034723864519037306\n",
            "4300 0.00033603646443225443\n",
            "4400 0.00032546359580010176\n",
            "4500 0.000315490469802171\n",
            "4600 0.0003060663293581456\n",
            "4700 0.00029712411924265325\n",
            "4800 0.0002886603760998696\n",
            "4900 0.00028062256751582026\n",
            "5000 0.000272964098257944\n",
            "5100 0.0002656874421518296\n",
            "5200 0.00025874614948406816\n",
            "5300 0.00025214310153387487\n",
            "5400 0.0002458247763570398\n",
            "5500 0.00023979689285624772\n",
            "5600 0.0002340161008760333\n",
            "5700 0.00022849004017189145\n",
            "5800 0.00022319691197481006\n",
            "5900 0.0002181119634769857\n",
            "6000 0.00021316362835932523\n",
            "6100 0.0002084089646814391\n",
            "6200 0.00020386141841299832\n",
            "6300 0.0001995010388782248\n",
            "6400 0.0001952912425622344\n",
            "6500 0.00019125740800518543\n",
            "6600 0.00018736404308583587\n",
            "6700 0.00018361279217060655\n",
            "6800 0.0001799996243789792\n",
            "6900 0.00017651822417974472\n",
            "7000 0.00017316665616817772\n",
            "7100 0.00016992811288218945\n",
            "7200 0.0001667935575824231\n",
            "7300 0.00016377732390537858\n",
            "7400 0.0001608572347322479\n",
            "7500 0.00015802796406205744\n",
            "7600 0.00015529061784036458\n",
            "7700 0.00015263515524566174\n",
            "7800 0.00015007010370027274\n",
            "7900 0.00014757837925571948\n",
            "8000 0.00014515622751787305\n",
            "8100 0.00014281329640652984\n",
            "8200 0.00014053189079277217\n",
            "8300 0.00013832529657520354\n",
            "8400 0.0001361733884550631\n",
            "8500 0.00013408948143478483\n",
            "8600 0.0001320568408118561\n",
            "8700 0.00013008205860387534\n",
            "8800 0.00012816349044442177\n",
            "8900 0.00012629404955077916\n",
            "9000 0.00012447651533875614\n",
            "9100 0.0001227049360750243\n",
            "9200 0.00012098043953301385\n",
            "9300 0.00011930213076993823\n",
            "9400 0.00011765913222916424\n",
            "9500 0.00011606479529291391\n",
            "9600 0.00011450775491539389\n",
            "9700 0.00011298133176751435\n",
            "9800 0.00011149836791446432\n",
            "9900 0.00011005025589838624\n",
            "10000 0.0001086315605789423\n"
          ]
        },
        {
          "output_type": "execute_result",
          "data": {
            "text/plain": [
              "Text(0, 0.5, 'Error')"
            ]
          },
          "metadata": {},
          "execution_count": 107
        },
        {
          "output_type": "display_data",
          "data": {
            "text/plain": [
              "<Figure size 432x288 with 1 Axes>"
            ],
            "image/png": "[encoded data removed]"
          },
          "metadata": {
            "needs_background": "light"
          }
        }
      ]
    },
    {
      "cell_type": "code",
      "source": [
        "for i in range(50):\n",
        "  print(\"학습 후 예측값 : {}, 타겟값 : {} \".format(model(X[i]), Y[i]))\n"
      ],
      "metadata": {
        "colab": {
          "base_uri": "https://localhost:8080/"
        },
        "id": "6uIm1cjPWOyC",
        "outputId": "08c9cdec-6c10-4657-a50c-a2f3ce8f39a0"
      },
      "execution_count": null,
      "outputs": [
        {
          "output_type": "stream",
          "name": "stdout",
          "text": [
            "학습 후 예측값 : tensor([33.0325,  0.0000,  0.0000,  0.0000,  0.0000, 10.0480,  8.1752,  6.0054,\n",
            "         1.6410,  0.0000], grad_fn=<ReluBackward0>), 타겟값 : 0 \n",
            "학습 후 예측값 : tensor([ 0.0000, 34.0488,  0.0000,  0.0000,  8.1260,  1.9466,  5.0240,  0.0000,\n",
            "         7.8324,  1.6427], grad_fn=<ReluBackward0>), 타겟값 : 1 \n",
            "학습 후 예측값 : tensor([ 0.0000,  9.9805, 26.3491,  0.0000,  0.0000,  0.0000, 11.2964,  0.0000,\n",
            "        11.2680,  0.0000], grad_fn=<ReluBackward0>), 타겟값 : 2 \n",
            "학습 후 예측값 : tensor([ 0.0000,  0.0000,  6.3168, 29.7585,  0.0000,  7.2879,  0.0000,  0.0000,\n",
            "         1.7301, 12.2024], grad_fn=<ReluBackward0>), 타겟값 : 3 \n",
            "학습 후 예측값 : tensor([ 1.9980,  0.0000,  0.0000,  0.0000, 37.2656,  0.0000, 15.9240,  0.0000,\n",
            "         4.4435,  0.0000], grad_fn=<ReluBackward0>), 타겟값 : 4 \n",
            "학습 후 예측값 : tensor([ 0.0000, 14.0502,  0.0000,  5.2888,  0.0937, 20.9564,  0.0000,  0.0000,\n",
            "         2.0006, 15.9627], grad_fn=<ReluBackward0>), 타겟값 : 5 \n",
            "학습 후 예측값 : tensor([ 6.8116,  9.9442,  0.0000,  0.0000, 12.7906,  0.0000, 28.8006,  0.0000,\n",
            "         3.0306,  0.0000], grad_fn=<ReluBackward0>), 타겟값 : 6 \n",
            "학습 후 예측값 : tensor([ 0.0000,  0.7505,  0.0000,  0.0000, 11.1473,  4.1623,  0.0000, 33.0432,\n",
            "         0.0000,  6.5360], grad_fn=<ReluBackward0>), 타겟값 : 7 \n",
            "학습 후 예측값 : tensor([ 0.2563,  0.0000,  0.0000,  4.4479,  0.0000,  0.0000,  0.0000,  0.0000,\n",
            "        31.3907,  3.8674], grad_fn=<ReluBackward0>), 타겟값 : 8 \n",
            "학습 후 예측값 : tensor([ 0.0000,  4.0759,  0.0000,  0.0000,  5.8658, 13.4831,  0.0000,  3.2262,\n",
            "         0.0000, 20.6890], grad_fn=<ReluBackward0>), 타겟값 : 9 \n",
            "학습 후 예측값 : tensor([36.0601,  0.0000,  0.0000,  0.0000,  0.4890,  8.9217, 13.6106,  1.8504,\n",
            "        11.6482,  0.0000], grad_fn=<ReluBackward0>), 타겟값 : 0 \n",
            "학습 후 예측값 : tensor([ 0.0000, 29.8059,  0.0000,  1.4742,  5.2594,  8.4913,  0.0000,  0.0000,\n",
            "         6.5944,  6.6802], grad_fn=<ReluBackward0>), 타겟값 : 1 \n",
            "학습 후 예측값 : tensor([ 0.0000,  7.8595, 24.1854,  0.0427,  0.5102,  0.0000,  3.6512,  0.0000,\n",
            "         0.0000,  0.0000], grad_fn=<ReluBackward0>), 타겟값 : 2 \n",
            "학습 후 예측값 : tensor([ 0.0000,  0.0000, 10.7503, 39.5969,  0.0000,  4.4585,  0.0000,  0.0000,\n",
            "         1.0280, 15.1439], grad_fn=<ReluBackward0>), 타겟값 : 3 \n",
            "학습 후 예측값 : tensor([ 7.1728,  0.0000,  0.0000,  0.0000, 36.2322,  0.0000, 11.6160,  7.7650,\n",
            "         8.9147,  0.0000], grad_fn=<ReluBackward0>), 타겟값 : 4 \n",
            "학습 후 예측값 : tensor([ 0.0000,  6.4455,  0.0000,  0.0724,  9.0125, 47.3557,  0.0000,  2.4329,\n",
            "         0.0000,  9.8078], grad_fn=<ReluBackward0>), 타겟값 : 5 \n",
            "학습 후 예측값 : tensor([ 0.0000, 14.6986, 11.3824,  0.0000,  9.9748,  0.0000, 25.8573,  0.0000,\n",
            "         2.0680,  0.0000], grad_fn=<ReluBackward0>), 타겟값 : 6 \n",
            "학습 후 예측값 : tensor([ 0.0000,  6.3671,  0.0000,  0.0000, 14.2582,  0.1818,  0.0000, 25.0730,\n",
            "         3.6274,  0.0000], grad_fn=<ReluBackward0>), 타겟값 : 7 \n",
            "학습 후 예측값 : tensor([ 0.0000,  0.9754,  0.0000,  4.8827,  0.0000,  4.3149,  0.0000,  3.8807,\n",
            "        19.5541, 10.6691], grad_fn=<ReluBackward0>), 타겟값 : 8 \n",
            "학습 후 예측값 : tensor([ 0.0000,  3.7539,  0.0000, 10.0444,  0.0000,  8.6184,  0.0000,  0.0000,\n",
            "         0.0000, 17.3815], grad_fn=<ReluBackward0>), 타겟값 : 9 \n",
            "학습 후 예측값 : tensor([35.0549,  0.0000,  0.0000,  0.0000,  0.9242,  8.6505, 13.2363,  3.9611,\n",
            "         5.8340,  0.0000], grad_fn=<ReluBackward0>), 타겟값 : 0 \n",
            "학습 후 예측값 : tensor([ 0.0000, 30.0695,  0.0000,  0.7602,  5.1851,  9.3699,  0.0000,  0.0000,\n",
            "         6.2350,  6.3594], grad_fn=<ReluBackward0>), 타겟값 : 1 \n",
            "학습 후 예측값 : tensor([ 0.0000,  2.7683, 39.0645,  4.8207,  0.0000,  0.0000,  3.1337,  0.0000,\n",
            "         3.0391,  0.0000], grad_fn=<ReluBackward0>), 타겟값 : 2 \n",
            "학습 후 예측값 : tensor([ 0.0000,  0.0000, 12.8509, 31.9946,  0.0000,  6.1229,  0.0000,  1.0050,\n",
            "         2.7616,  6.3943], grad_fn=<ReluBackward0>), 타겟값 : 3 \n",
            "학습 후 예측값 : tensor([ 0.0000,  3.2301,  0.0000,  0.0000, 26.4729,  0.0000,  7.2874,  0.6936,\n",
            "         6.6749,  0.0000], grad_fn=<ReluBackward0>), 타겟값 : 4 \n",
            "학습 후 예측값 : tensor([ 1.8779,  0.0000,  0.0000,  0.0000,  4.9024, 29.9272,  0.0000,  4.1847,\n",
            "         2.2439,  0.0000], grad_fn=<ReluBackward0>), 타겟값 : 5 \n",
            "학습 후 예측값 : tensor([ 6.6378,  9.5843,  6.9267,  0.0000, 10.1143,  2.9379, 30.0480,  0.0000,\n",
            "         0.0000,  0.0000], grad_fn=<ReluBackward0>), 타겟값 : 6 \n",
            "학습 후 예측값 : tensor([0.0000e+00, 6.0072e-03, 0.0000e+00, 2.4714e+00, 6.8592e+00, 5.5092e+00,\n",
            "        0.0000e+00, 1.8744e+01, 1.9460e+00, 9.5846e+00],\n",
            "       grad_fn=<ReluBackward0>), 타겟값 : 7 \n",
            "학습 후 예측값 : tensor([ 0.4154,  0.0000,  0.0000,  0.0000,  0.0000,  0.0000,  0.0000,  1.6857,\n",
            "        27.0629,  4.0518], grad_fn=<ReluBackward0>), 타겟값 : 8 \n",
            "학습 후 예측값 : tensor([ 0.0000,  1.6794,  0.0000, 11.4520,  0.0000,  8.5045,  0.0000,  0.0000,\n",
            "         0.0000, 18.2778], grad_fn=<ReluBackward0>), 타겟값 : 9 \n",
            "학습 후 예측값 : tensor([37.0483,  0.0000,  0.0000,  0.0000,  1.1825, 16.2130, 11.8607,  5.1374,\n",
            "         3.3652,  0.0000], grad_fn=<ReluBackward0>), 타겟값 : 0 \n",
            "학습 후 예측값 : tensor([ 0.0000,  4.7117,  0.0000, 10.2355,  0.6450,  5.4671,  0.0000,  0.0000,\n",
            "         0.0000, 18.6458], grad_fn=<ReluBackward0>), 타겟값 : 9 \n",
            "학습 후 예측값 : tensor([ 0.0000,  2.2608,  0.0000,  2.1340,  7.5899, 49.2764,  0.0000,  0.4078,\n",
            "         0.0000,  9.1691], grad_fn=<ReluBackward0>), 타겟값 : 5 \n",
            "학습 후 예측값 : tensor([ 0.0000,  5.1795,  0.0000,  0.0000,  6.1538, 34.7024,  0.0000,  5.5647,\n",
            "         0.5359,  8.1462], grad_fn=<ReluBackward0>), 타겟값 : 5 \n",
            "학습 후 예측값 : tensor([ 0.5060, 10.3176,  6.1944,  0.0000, 13.7058,  0.0000, 29.4924,  0.0000,\n",
            "         0.9863,  0.0000], grad_fn=<ReluBackward0>), 타겟값 : 6 \n",
            "학습 후 예측값 : tensor([ 0.0000,  3.5225,  0.0000,  0.0000,  7.8366, 41.1816,  0.0000,  4.5341,\n",
            "         0.0000,  8.9703], grad_fn=<ReluBackward0>), 타겟값 : 5 \n",
            "학습 후 예측값 : tensor([35.8963,  0.0000,  0.0000,  0.0000,  0.9146,  7.4275, 11.2196,  5.5988,\n",
            "        10.8849,  0.0000], grad_fn=<ReluBackward0>), 타겟값 : 0 \n",
            "학습 후 예측값 : tensor([ 0.0000,  2.8838,  0.0000,  4.7006,  1.3137, 12.4202,  0.0000,  0.0000,\n",
            "         4.1584, 17.8437], grad_fn=<ReluBackward0>), 타겟값 : 9 \n",
            "학습 후 예측값 : tensor([ 0.0000,  1.6601,  0.0000,  0.0000,  0.0000,  6.3991,  0.0000,  5.0538,\n",
            "        19.7469,  9.4542], grad_fn=<ReluBackward0>), 타겟값 : 8 \n",
            "학습 후 예측값 : tensor([ 1.5157,  0.0000,  0.0000,  9.2462,  0.0000,  4.6390,  0.0000,  0.0000,\n",
            "         0.0000, 26.2720], grad_fn=<ReluBackward0>), 타겟값 : 9 \n",
            "학습 후 예측값 : tensor([ 0.0000,  4.8948,  0.0000,  6.9508,  0.0000,  0.0000,  0.0000,  0.0000,\n",
            "        32.3012,  5.8984], grad_fn=<ReluBackward0>), 타겟값 : 8 \n",
            "학습 후 예측값 : tensor([ 8.4474,  2.1361,  0.0000,  0.0000, 38.9017,  0.0000, 13.8507,  7.7609,\n",
            "         6.6188,  0.0000], grad_fn=<ReluBackward0>), 타겟값 : 4 \n",
            "학습 후 예측값 : tensor([ 0.0000, 25.3706,  0.0000,  0.0000, 10.0567,  9.1447,  0.1155,  0.0000,\n",
            "         4.3395,  9.2057], grad_fn=<ReluBackward0>), 타겟값 : 1 \n",
            "학습 후 예측값 : tensor([ 0.0000,  8.3208,  0.0000,  0.0000, 10.2804,  9.0289,  0.0000, 21.2210,\n",
            "         0.0000, 10.0974], grad_fn=<ReluBackward0>), 타겟값 : 7 \n",
            "학습 후 예측값 : tensor([ 2.2846,  0.0000,  0.0000,  0.0000, 15.9077,  0.7047,  0.0000, 42.3643,\n",
            "         0.0000,  8.6422], grad_fn=<ReluBackward0>), 타겟값 : 7 \n",
            "학습 후 예측값 : tensor([ 0.0000,  0.0000,  7.3312, 31.3690,  0.0000,  9.3263,  0.0000,  0.0000,\n",
            "         0.0000,  9.4821], grad_fn=<ReluBackward0>), 타겟값 : 3 \n",
            "학습 후 예측값 : tensor([ 0.0000,  5.3420,  0.0000,  0.0000, 10.5807, 18.0944,  0.0000,  4.1756,\n",
            "         6.9039,  7.8652], grad_fn=<ReluBackward0>), 타겟값 : 5 \n",
            "학습 후 예측값 : tensor([ 0.0000, 28.4653,  0.0000,  0.0000,  9.0545, 12.7900,  0.0000,  0.0000,\n",
            "         1.3447,  7.9900], grad_fn=<ReluBackward0>), 타겟값 : 1 \n",
            "학습 후 예측값 : tensor([36.4929,  0.0000,  0.0000,  0.0000,  0.0000,  9.9624, 16.9131,  0.0000,\n",
            "         7.1616,  0.0000], grad_fn=<ReluBackward0>), 타겟값 : 0 \n",
            "학습 후 예측값 : tensor([31.8977,  0.0000,  0.0000,  0.0000,  0.0000,  6.0960, 11.9703,  0.0000,\n",
            "         0.0000,  0.0000], grad_fn=<ReluBackward0>), 타겟값 : 0 \n"
          ]
        }
      ]
    }
  ]
}
