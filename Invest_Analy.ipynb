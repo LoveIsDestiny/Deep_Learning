{
 "cells": [
  {
   "cell_type": "code",
   "execution_count": 113,
   "id": "1e9ee023",
   "metadata": {},
   "outputs": [],
   "source": [
    "import pandas as pd\n",
    "from pykrx import stock\n",
    "import matplotlib.pyplot as plt\n",
    "import numpy as np\n",
    "import scipy.stats as stats\n",
    "import math\n",
    "import random\n",
    "\n",
    "\n",
    "def return_rate (date1, date2, date3, date4, ticker):\n",
    "    df = stock.get_etf_ohlcv_by_date(date1, date2, ticker)\n",
    "    df_nav = df[\"NAV\"]\n",
    "    list_df_nav = list(df_nav)\n",
    "    series_df_1 = pd.Series(list_df_nav)\n",
    "    \n",
    "    df2 = stock.get_etf_ohlcv_by_date(date3, date4, ticker)\n",
    "    df2_nav = df2[\"NAV\"]\n",
    "    list_df2_nav = list(df2_nav)\n",
    "    series_df_2 = pd.Series(list_df2_nav)\n",
    "    \n",
    "    return_rate = list((series_df_2 - series_df_1) / series_df_1)\n",
    "    \n",
    "    return return_rate\n"
   ]
  },
  {
   "cell_type": "code",
   "execution_count": 145,
   "id": "ec160edc",
   "metadata": {
    "scrolled": true
   },
   "outputs": [
    {
     "data": {
      "image/png": "[encoded data removed]",
      "text/plain": [
       "<Figure size 432x288 with 1 Axes>"
      ]
     },
     "metadata": {
      "needs_background": "light"
     },
     "output_type": "display_data"
    },
    {
     "name": "stdout",
     "output_type": "stream",
     "text": [
      "[-713.90944432 -603.62731646 -506.47390341 -391.32569174]\n"
     ]
    }
   ],
   "source": [
    "# KBSTAR US S&P Oil&Gas VaR\n",
    "\n",
    "Oil = return_rate(\"20210315\", \"20220315\", \"20210316\",\"20220316\",\"219390\")\n",
    "\n",
    "Xs = []\n",
    "x = stock.get_etf_ohlcv_by_date(\"20220322\", \"20220322\", \"219390\")\n",
    "for i in range(0, 1000000):\n",
    "    X0 = x[\"NAV\"][-1]\n",
    "    \n",
    "    r_scenario = random.sample(Oil, 5)\n",
    "    Xs.append(X0 * np.exp(sum(r_scenario)))\n",
    "\n",
    "PL_function = Xs - X0\n",
    "\n",
    "VaR = np.percentile(PL_function, [1, 2.5, 5, 10])\n",
    "\n",
    "plt.plot(PL_function, stats.norm.pdf(PL_function,\n",
    "                                     np.nanmean(PL_function),\n",
    "                                     np.std(PL_function)), '.',\n",
    "        color = 'red')\n",
    "plt.title(\"VaR of U.S. S&P crude oil company in KBSTAR\")\n",
    "plt.xlabel(\"Profit & Loss func.\")\n",
    "plt.show()\n",
    "print(VaR)"
   ]
  },
  {
   "cell_type": "code",
   "execution_count": 148,
   "id": "4e7fac5e",
   "metadata": {},
   "outputs": [
    {
     "name": "stdout",
     "output_type": "stream",
     "text": [
      "11907.3\n",
      "-1764.528989211376\n"
     ]
    },
    {
     "data": {
      "image/png": "[encoded data removed]",
      "text/plain": [
       "<Figure size 432x288 with 1 Axes>"
      ]
     },
     "metadata": {
      "needs_background": "light"
     },
     "output_type": "display_data"
    },
    {
     "name": "stdout",
     "output_type": "stream",
     "text": [
      "[-801.10759208 -651.55438678 -517.50289838 -371.94559093]\n"
     ]
    }
   ],
   "source": [
    "# TIGER 유로스탁 배당 30\n",
    "\n",
    "Euro = return_rate(\"20210315\", \"20220315\", \"20210316\",\"20220316\",\"245350\")\n",
    "\n",
    "Xs = []\n",
    "x = stock.get_etf_ohlcv_by_date(\"20220322\", \"20220322\", \"245350\")\n",
    "for i in range(0, 1000000):\n",
    "    X0 = x[\"NAV\"][-1]\n",
    "    \n",
    "    r_scenario = random.sample(Euro, 5)\n",
    "    Xs.append(X0 * np.exp(sum(r_scenario)))\n",
    "\n",
    "PL_function = (Xs - X0)\n",
    "print(X0)\n",
    "print(min(PL_function))\n",
    "VaR = np.percentile(PL_function, [1, 2.5, 5, 10], interpolation = 'linear')\n",
    "\n",
    "plt.plot(PL_function, stats.norm.pdf(PL_function,\n",
    "                                     np.nanmean(PL_function),\n",
    "                                     np.std(PL_function)), '.',\n",
    "        color = 'blue')\n",
    "plt.xlabel(\"Profit & Loss func.\")\n",
    "plt.title(\"VaR of TIGER Eurostock dividend of 30 \")\n",
    "plt.show()\n",
    "print(VaR)"
   ]
  },
  {
   "cell_type": "code",
   "execution_count": 127,
   "id": "8f9788ee",
   "metadata": {},
   "outputs": [
    {
     "name": "stdout",
     "output_type": "stream",
     "text": [
      "0.09440347736387115\n",
      "1975.230874613986\n"
     ]
    }
   ],
   "source": [
    "print(max(Euro))\n",
    "print(max(PL_function))"
   ]
  }
 ],
 "metadata": {
  "kernelspec": {
   "display_name": "Python 3",
   "language": "python",
   "name": "python3"
  },
  "language_info": {
   "codemirror_mode": {
    "name": "ipython",
    "version": 3
   },
   "file_extension": ".py",
   "mimetype": "text/x-python",
   "name": "python",
   "nbconvert_exporter": "python",
   "pygments_lexer": "ipython3",
   "version": "3.8.8"
  }
 },
 "nbformat": 4,
 "nbformat_minor": 5
}
