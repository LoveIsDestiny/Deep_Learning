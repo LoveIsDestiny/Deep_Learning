{
  "nbformat": 4,
  "nbformat_minor": 0,
  "metadata": {
    "colab": {
      "name": "HW05_XOR.ipynb",
      "provenance": [],
      "collapsed_sections": [],
      "authorship_tag": "ABX9TyMKUEIaz1UymoG8FbA4M6kx",
      "include_colab_link": true
    },
    "kernelspec": {
      "name": "python3",
      "display_name": "Python 3"
    },
    "language_info": {
      "name": "python"
    }
  },
  "cells": [
    {
      "cell_type": "markdown",
      "metadata": {
        "id": "view-in-github",
        "colab_type": "text"
      },
      "source": [
        "<a href=\"https://colab.research.google.com/github/LoveIsDestiny/Deep_Learning/blob/main/HW05_XOR.ipynb\" target=\"_parent\"><img src=\"https://colab.research.google.com/assets/colab-badge.svg\" alt=\"Open In Colab\"/></a>"
      ]
    },
    {
      "cell_type": "code",
      "execution_count": 34,
      "metadata": {
        "id": "xaIXmyOC-bJ9"
      },
      "outputs": [],
      "source": [
        "import torch\n",
        "import numpy as np\n",
        "import torch.nn as nn\n",
        "import torch.nn.functional as F\n",
        "import torch.optim as optim\n",
        "import matplotlib.pyplot as plt\n",
        "\n",
        "# 신경망 모델 설계 \n",
        "\n",
        "# 10 Hidden Layer \n",
        "\n",
        "class MRModel_01(nn.Module):\n",
        "  def __init__(self):\n",
        "    super().__init__()\n",
        "    self.linear = nn.Linear(2, 4, bias = True)\n",
        "    self.linear2 = nn.Linear(4, 4, bias = True)\n",
        "    self.linear3 = nn.Linear(4, 4, bias = True) \n",
        "    self.linear4 = nn.Linear(4, 4, bias = True)\n",
        "    self.linear5 = nn.Linear(4, 4, bias = True)\n",
        "    self.linear6 = nn.Linear(4, 4, bias = True)\n",
        "    self.linear7 = nn.Linear(4, 4, bias = True)\n",
        "    self.linear8 = nn.Linear(4, 4, bias = True)\n",
        "    self.linear9 = nn.Linear(4, 4, bias = True)\n",
        "    self.linear10 = nn.Linear(4, 1, bias = True)      \n",
        "\n",
        "    self.ReLU = nn.ReLU()\n",
        "    self.sigmoid = nn.Sigmoid()\n",
        "\n",
        "  def forward(self, x):\n",
        "    x = self.ReLU(self.linear(x))\n",
        "    x = self.ReLU(self.linear2(x))\n",
        "    x = self.ReLU(self.linear3(x))\n",
        "    x = self.ReLU(self.linear4(x))\n",
        "    x = self.ReLU(self.linear5(x))\n",
        "    x = self.ReLU(self.linear6(x))\n",
        "    x = self.ReLU(self.linear7(x))\n",
        "    x = self.ReLU(self.linear8(x))\n",
        "    x = self.ReLU(self.linear9(x))\n",
        "    x = self.sigmoid(self.linear10(x))\n",
        "    \n",
        "    return x\n",
        "\n",
        "# 4 Hidden Layer \n",
        "class MRModel_02(nn.Module):\n",
        "  def __init__(self):\n",
        "    super().__init__()\n",
        "    self.linear = nn.Linear(2, 4, bias = True)\n",
        "    self.linear2 = nn.Linear(4, 4, bias = True)\n",
        "    self.linear3 = nn.Linear(4, 4, bias = True) \n",
        "    self.linear4 = nn.Linear(4, 1, bias = True)\n",
        "\n",
        "    self.ReLU = nn.ReLU()\n",
        "    self.sigmoid = nn.Sigmoid()\n",
        "\n",
        "  def forward(self, x):\n",
        "    x = self.ReLU(self.linear(x))\n",
        "    x = self.ReLU(self.linear2(x))\n",
        "    x = self.ReLU(self.linear3(x))\n",
        "    x = self.sigmoid(self.linear4(x))\n",
        "\n",
        "    return x\n",
        "\n",
        "  \n",
        "\n"
      ]
    },
    {
      "cell_type": "markdown",
      "source": [
        "1. 10 Hidden Layer"
      ],
      "metadata": {
        "id": "_5uVOWzLCdS3"
      }
    },
    {
      "cell_type": "code",
      "source": [
        "x_train = torch.FloatTensor([[0, 0],\n",
        "                             [0, 1],\n",
        "                             [1, 0],\n",
        "                             [1, 1]])\n",
        "y_train = torch.FloatTensor([[0], [1], [1], [0]])\n",
        "\n",
        "model = MRModel_01()\n",
        "criterion = torch.nn.BCELoss()\n",
        "optimizer = torch.optim.SGD(model.parameters(), lr = 0.1)\n",
        "\n",
        "nb_epochs = 30000\n",
        "Error_list_01 = []\n",
        "\n",
        "for epoch in range(nb_epochs + 1):\n",
        "  prediction = model(x_train)\n",
        "\n",
        "  Error = criterion(prediction, y_train)\n",
        "  Error_list_01.append(Error.item())\n",
        "\n",
        "  optimizer.zero_grad()\n",
        "  Error.backward()\n",
        "  optimizer.step()\n",
        "\n",
        "  if epoch % 1000 == 0 :  \n",
        "      print('Epoch {:4d}/{} Cost: {:.6f}'.format( epoch, nb_epochs, Error.item() ))\n",
        "      #print(model.state_dict() )\n",
        "\n",
        "\n",
        "  "
      ],
      "metadata": {
        "colab": {
          "base_uri": "https://localhost:8080/"
        },
        "id": "Qf7cxLx9CgGH",
        "outputId": "36d1f940-727f-4f5d-b49f-12bb1acb28da"
      },
      "execution_count": 42,
      "outputs": [
        {
          "output_type": "stream",
          "name": "stdout",
          "text": [
            "Epoch    0/30000 Cost: 0.703763\n",
            "Epoch 1000/30000 Cost: 0.693147\n",
            "Epoch 2000/30000 Cost: 0.693147\n",
            "Epoch 3000/30000 Cost: 0.693147\n",
            "Epoch 4000/30000 Cost: 0.693147\n",
            "Epoch 5000/30000 Cost: 0.693147\n",
            "Epoch 6000/30000 Cost: 0.693147\n",
            "Epoch 7000/30000 Cost: 0.693147\n",
            "Epoch 8000/30000 Cost: 0.693147\n",
            "Epoch 9000/30000 Cost: 0.693147\n",
            "Epoch 10000/30000 Cost: 0.693147\n",
            "Epoch 11000/30000 Cost: 0.693147\n",
            "Epoch 12000/30000 Cost: 0.693147\n",
            "Epoch 13000/30000 Cost: 0.693147\n",
            "Epoch 14000/30000 Cost: 0.693147\n",
            "Epoch 15000/30000 Cost: 0.693147\n",
            "Epoch 16000/30000 Cost: 0.693147\n",
            "Epoch 17000/30000 Cost: 0.693147\n",
            "Epoch 18000/30000 Cost: 0.693147\n",
            "Epoch 19000/30000 Cost: 0.693147\n",
            "Epoch 20000/30000 Cost: 0.693147\n",
            "Epoch 21000/30000 Cost: 0.693147\n",
            "Epoch 22000/30000 Cost: 0.693147\n",
            "Epoch 23000/30000 Cost: 0.693147\n",
            "Epoch 24000/30000 Cost: 0.693147\n",
            "Epoch 25000/30000 Cost: 0.693147\n",
            "Epoch 26000/30000 Cost: 0.693147\n",
            "Epoch 27000/30000 Cost: 0.693147\n",
            "Epoch 28000/30000 Cost: 0.693147\n",
            "Epoch 29000/30000 Cost: 0.693147\n",
            "Epoch 30000/30000 Cost: 0.693147\n"
          ]
        }
      ]
    },
    {
      "cell_type": "markdown",
      "source": [
        "2. 4 Hidden Layer"
      ],
      "metadata": {
        "id": "2ad3EA5YEEwa"
      }
    },
    {
      "cell_type": "code",
      "source": [
        "x_train = torch.FloatTensor([[0, 0],\n",
        "                             [0, 1],\n",
        "                             [1, 0],\n",
        "                             [1, 1]])\n",
        "y_train = torch.FloatTensor([[0], [1], [1], [0]])\n",
        "\n",
        "model = MRModel_02()\n",
        "criterion = torch.nn.BCELoss()\n",
        "optimizer = torch.optim.SGD(model.parameters(), lr = 0.1)\n",
        "\n",
        "nb_epochs = 30000\n",
        "Error_list_02 = []\n",
        "\n",
        "for epoch in range(nb_epochs + 1):\n",
        "  prediction = model(x_train)\n",
        "\n",
        "  Error = criterion(prediction, y_train)\n",
        "  Error_list_02.append(Error.item())\n",
        "\n",
        "  optimizer.zero_grad()\n",
        "  Error.backward()\n",
        "  optimizer.step()\n",
        "\n",
        "  if epoch % 1000 == 0 :  \n",
        "      print('Epoch {:4d}/{} Cost: {:.6f}'.format( epoch, nb_epochs, Error.item() ))\n",
        "      #print(model.state_dict() )\n",
        "\n",
        "  "
      ],
      "metadata": {
        "colab": {
          "base_uri": "https://localhost:8080/"
        },
        "id": "PD0UCpPFDq9b",
        "outputId": "ff7156f8-9da7-4bd8-8c02-9565891c703d"
      },
      "execution_count": 41,
      "outputs": [
        {
          "output_type": "stream",
          "name": "stdout",
          "text": [
            "Epoch    0/30000 Cost: 0.702705\n",
            "Epoch 1000/30000 Cost: 0.005492\n",
            "Epoch 2000/30000 Cost: 0.001114\n",
            "Epoch 3000/30000 Cost: 0.000566\n",
            "Epoch 4000/30000 Cost: 0.000367\n",
            "Epoch 5000/30000 Cost: 0.000268\n",
            "Epoch 6000/30000 Cost: 0.000209\n",
            "Epoch 7000/30000 Cost: 0.000170\n",
            "Epoch 8000/30000 Cost: 0.000143\n",
            "Epoch 9000/30000 Cost: 0.000123\n",
            "Epoch 10000/30000 Cost: 0.000107\n",
            "Epoch 11000/30000 Cost: 0.000095\n",
            "Epoch 12000/30000 Cost: 0.000085\n",
            "Epoch 13000/30000 Cost: 0.000077\n",
            "Epoch 14000/30000 Cost: 0.000070\n",
            "Epoch 15000/30000 Cost: 0.000065\n",
            "Epoch 16000/30000 Cost: 0.000060\n",
            "Epoch 17000/30000 Cost: 0.000056\n",
            "Epoch 18000/30000 Cost: 0.000052\n",
            "Epoch 19000/30000 Cost: 0.000048\n",
            "Epoch 20000/30000 Cost: 0.000046\n",
            "Epoch 21000/30000 Cost: 0.000043\n",
            "Epoch 22000/30000 Cost: 0.000041\n",
            "Epoch 23000/30000 Cost: 0.000039\n",
            "Epoch 24000/30000 Cost: 0.000037\n",
            "Epoch 25000/30000 Cost: 0.000035\n",
            "Epoch 26000/30000 Cost: 0.000033\n",
            "Epoch 27000/30000 Cost: 0.000032\n",
            "Epoch 28000/30000 Cost: 0.000030\n",
            "Epoch 29000/30000 Cost: 0.000029\n",
            "Epoch 30000/30000 Cost: 0.000028\n"
          ]
        }
      ]
    },
    {
      "cell_type": "code",
      "source": [
        "plt.plot(Error_list_01, label = \"10 Hiddens\")\n",
        "plt.plot(Error_list_02, label = \"4 Hiddens\")\n",
        "plt.ylabel(\"Error / Cost\")\n",
        "plt.xlabel(\"Epoch\")\n",
        "plt.legend()\n",
        "plt.show()"
      ],
      "metadata": {
        "colab": {
          "base_uri": "https://localhost:8080/",
          "height": 279
        },
        "id": "1bF4mqshEQe6",
        "outputId": "dfc99066-c3b8-4a0a-b3a5-b2050ec98c18"
      },
      "execution_count": 43,
      "outputs": [
        {
          "output_type": "display_data",
          "data": {
            "text/plain": [
              "<Figure size 432x288 with 1 Axes>"
            ],
            "image/png": "[encoded data removed]"
          },
          "metadata": {
            "needs_background": "light"
          }
        }
      ]
    }
  ]
}