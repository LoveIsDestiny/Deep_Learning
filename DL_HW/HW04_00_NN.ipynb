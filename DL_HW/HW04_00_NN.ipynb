{
 "cells": [
  {
   "cell_type": "code",
   "execution_count": 6,
   "id": "522a6a7f",
   "metadata": {},
   "outputs": [],
   "source": [
    "import matplotlib.pyplot as plt\n",
    "import numpy as np\n",
    "\n",
    "def sigmoid (x) :\n",
    "    return 1 / (1 + np.exp(-x))\n",
    "\n",
    "def MSE (x, o) :\n",
    "    return 0.5 * np.sum((x - o) ** 2)"
   ]
  },
  {
   "cell_type": "code",
   "execution_count": 8,
   "id": "9ee0066b",
   "metadata": {},
   "outputs": [],
   "source": [
    "x = 1 ; t = 1\n",
    "\n",
    "w1, w2, w3, w4, w5 = (1, 1, 1, 1, 1)\n",
    "\n",
    "net_1 = x * w1\n",
    "h_1 = sigmoid(net_1)\n",
    "net_21 = h_1 * w2\n",
    "net_22 = h_1 * w3\n",
    "h_2 = sigmoid(net_21)\n",
    "h_3 = sigmoid(net_22)\n",
    "net_3 = h_2 * w4 + h_3 * w5\n",
    "y = sigmoid(net_3)"
   ]
  },
  {
   "cell_type": "code",
   "execution_count": 16,
   "id": "f012d761",
   "metadata": {},
   "outputs": [],
   "source": [
    "dE_dW5 = -(t - y) * y * (1 - y) * h_3\n",
    "dE_dW4 = -(t - y) * y * (1 - y) * h_2\n",
    "dE_dW3 = -(t - y) * y * (1 - y) * w5 * h_3 * (1 - h_3) * h_1\n",
    "dE_dW2 = -(t - y) * y * (1 - y) * w4 * h_2 * (1 - h_2) * h_1\n",
    "dE_dW1_1 = -(t - y) * y * (1 - y) * w4 * h_2 * (1 - h_2) * w2 * h_1 * (1 - h_1) * x \n",
    "dE_dW1_2 = -(t - y) * y * (1 - y) * w5 * h_3 * (1 - h_3) * w3 * h_1 * (1 - h_1) * x \n",
    "dE_dW1 = dE_dW1_1 + dE_dW1_2"
   ]
  },
  {
   "cell_type": "code",
   "execution_count": 17,
   "id": "a14ca3a7",
   "metadata": {},
   "outputs": [
    {
     "name": "stdout",
     "output_type": "stream",
     "text": [
      "-0.022717574116494995\n",
      "-0.022717574116494995\n",
      "-0.005396936919071087\n",
      "-0.005396936919071087\n",
      "-0.002902919772118361\n"
     ]
    }
   ],
   "source": []
  }
 ],
 "metadata": {
  "kernelspec": {
   "display_name": "Python 3 (ipykernel)",
   "language": "python",
   "name": "python3"
  },
  "language_info": {
   "codemirror_mode": {
    "name": "ipython",
    "version": 3
   },
   "file_extension": ".py",
   "mimetype": "text/x-python",
   "name": "python",
   "nbconvert_exporter": "python",
   "pygments_lexer": "ipython3",
   "version": "3.7.11"
  }
 },
 "nbformat": 4,
 "nbformat_minor": 5
}
