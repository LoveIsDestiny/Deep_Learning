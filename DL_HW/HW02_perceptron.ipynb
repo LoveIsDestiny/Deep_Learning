{
 "cells": [
  {
   "cell_type": "code",
   "execution_count": 8,
   "id": "1d76a4e8",
   "metadata": {},
   "outputs": [],
   "source": [
    "# AND, OR GATE\n",
    "\n",
    "def AND (x1, x2):\n",
    "    w11, w12, w13 = (1, 1, -1.5)\n",
    "    summation = w11*x1 + w12*x2 + w13\n",
    "    if summation <= 0:\n",
    "        return 0\n",
    "    elif summation > 0:\n",
    "        return 1\n",
    "    \n",
    "def OR (x1, x2):\n",
    "    w21, w22, w23 = (1, 1, -0.5)\n",
    "    summation = w21*x1 + w22*x2 + w23\n",
    "    if summation <= 0:\n",
    "        return 0\n",
    "    if summation > 0:\n",
    "        return 1\n",
    "    "
   ]
  },
  {
   "cell_type": "code",
   "execution_count": 13,
   "id": "a50e2b6b",
   "metadata": {},
   "outputs": [],
   "source": [
    "# XOR, XNOR GATE\n",
    "\n",
    "def XOR (x1, x2):\n",
    "    y1 = AND(x1, x2)\n",
    "    y2 = OR(x1, x2)\n",
    "    w31, w32, w33 = (-1, 1, -0.5)\n",
    "    summation = w31*y1 + w32*y2 + w33\n",
    "    if summation <= 0:\n",
    "        return 0\n",
    "    if summation > 0:\n",
    "        return 1\n",
    "    \n",
    "def XNOR (x1, x2):\n",
    "    y1 = AND(x1, x2)\n",
    "    y2 = OR(x1, x2)\n",
    "    w31, w32, w33 = (1, -1, 0.5)\n",
    "    summation = w31*y1 + w32*y2 + w33\n",
    "    if summation <= 0:\n",
    "        return 0\n",
    "    if summation > 0:\n",
    "        return 1"
   ]
  },
  {
   "cell_type": "code",
   "execution_count": 16,
   "id": "000cbf85",
   "metadata": {},
   "outputs": [
    {
     "name": "stdout",
     "output_type": "stream",
     "text": [
      "1\n",
      "0\n",
      "0\n",
      "1\n"
     ]
    }
   ],
   "source": [
    "print(XNOR(0,0))\n",
    "print(XNOR(0,1))\n",
    "print(XNOR(1,0))\n",
    "print(XNOR(1,1))"
   ]
  }
 ],
 "metadata": {
  "kernelspec": {
   "display_name": "Python 3",
   "language": "python",
   "name": "python3"
  },
  "language_info": {
   "codemirror_mode": {
    "name": "ipython",
    "version": 3
   },
   "file_extension": ".py",
   "mimetype": "text/x-python",
   "name": "python",
   "nbconvert_exporter": "python",
   "pygments_lexer": "ipython3",
   "version": "3.8.10"
  }
 },
 "nbformat": 4,
 "nbformat_minor": 5
}
