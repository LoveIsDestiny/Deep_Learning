{
 "cells": [
  {
   "cell_type": "markdown",
   "id": "f6ebb497",
   "metadata": {},
   "source": [
    "## 1-1"
   ]
  },
  {
   "cell_type": "code",
   "execution_count": 6,
   "id": "e263c8d6",
   "metadata": {},
   "outputs": [
    {
     "name": "stdout",
     "output_type": "stream",
     "text": [
      "type of list1 : <class 'list'>\n",
      "[0], [-1] : 1 3\n",
      "\n",
      "type of list2 : <class 'range'>\n",
      "\n",
      "type of list2 : <class 'list'>\n"
     ]
    }
   ],
   "source": [
    "list1 = [1, 2, 3]\n",
    "\n",
    "print(\"type of list1 :\", type(list1))\n",
    "print(\"[0], [-1] :\", list1[0], list1[-1])\n",
    "\n",
    "print()\n",
    "list1[1] = \"str1\"\n",
    "list2 = range(10)\n",
    "print(\"type of list2 :\", type(list2))\n",
    "\n",
    "print()\n",
    "list2 = list(list2)\n",
    "print(\"type of list2 :\", type(list2))"
   ]
  },
  {
   "cell_type": "markdown",
   "id": "8f471769",
   "metadata": {},
   "source": [
    "## 1-2"
   ]
  },
  {
   "cell_type": "code",
   "execution_count": 12,
   "id": "f31ea545",
   "metadata": {},
   "outputs": [
    {
     "name": "stdout",
     "output_type": "stream",
     "text": [
      "list2[2:4] : [8, 9]\n",
      "list2[2:] : [8, 9, 5, 6, 7, 8, 9]\n",
      "list2[:2] : [0, 1]\n",
      "list2[:] : [0, 1, 8, 9, 5, 6, 7, 8, 9]\n",
      "list2[::2] : [0, 8, 5, 7, 9]\n",
      "list2[:-1] : [0, 1, 8, 9, 5, 6, 7, 8]\n",
      "\n",
      "[0, 1, 8, 9, 6, 7, 8, 9]\n"
     ]
    }
   ],
   "source": [
    "print(\"list2[2:4] :\", list2[2:4])\n",
    "print(\"list2[2:] :\", list2[2:])\n",
    "print(\"list2[:2] :\", list2[:2])\n",
    "print(\"list2[:] :\", list2[:])\n",
    "print(\"list2[::2] :\", list2[::2])\n",
    "print(\"list2[:-1] :\", list2[:-1])\n",
    "print()\n",
    "\n",
    "list2[2:4] = [8, 9]\n",
    "list2[2:5] = [8, 9]\n",
    "\n",
    "print(list2)"
   ]
  },
  {
   "cell_type": "markdown",
   "id": "958301bf",
   "metadata": {},
   "source": [
    "## 1-3"
   ]
  },
  {
   "cell_type": "code",
   "execution_count": 14,
   "id": "3672452b",
   "metadata": {},
   "outputs": [
    {
     "name": "stdout",
     "output_type": "stream",
     "text": [
      "cat\n",
      "dog\n",
      "monkey\n",
      "[0, 1, 2, 3, 4]\n"
     ]
    }
   ],
   "source": [
    "animals =['cat', 'dog', 'monkey']\n",
    "\n",
    "for animals in animals :\n",
    "    print(animals)\n",
    "    \n",
    "nums = [0, 1, 2, 3, 4]\n",
    "squares = []\n",
    "\n",
    "for x in nums :\n",
    "    squares.append(x)\n",
    "print(squares)"
   ]
  },
  {
   "cell_type": "markdown",
   "id": "651520d7",
   "metadata": {},
   "source": [
    "## 1-4"
   ]
  },
  {
   "cell_type": "code",
   "execution_count": 15,
   "id": "189d638e",
   "metadata": {
    "scrolled": true
   },
   "outputs": [
    {
     "name": "stdout",
     "output_type": "stream",
     "text": [
      "negative\n",
      "zero\n",
      "positive\n"
     ]
    }
   ],
   "source": [
    "def sign(x):\n",
    "    if x > 0 :\n",
    "        return 'positive'\n",
    "    elif x < 0 :\n",
    "        return 'negative'\n",
    "    else :\n",
    "        return 'zero'\n",
    "    \n",
    "for x in [-1, 0, 1] :\n",
    "    print(sign(x))"
   ]
  },
  {
   "cell_type": "markdown",
   "id": "d1500e22",
   "metadata": {},
   "source": [
    "## 1-5"
   ]
  },
  {
   "cell_type": "code",
   "execution_count": 16,
   "id": "c2745265",
   "metadata": {},
   "outputs": [
    {
     "name": "stdout",
     "output_type": "stream",
     "text": [
      "Hello, Bob\n",
      "HELLO, FRED\n"
     ]
    }
   ],
   "source": [
    "def hello(name, loud = False) :\n",
    "    if loud :\n",
    "        print('HELLO, %s' % name.upper())\n",
    "    else :\n",
    "        print('Hello, %s' % name)\n",
    "        \n",
    "hello('Bob')\n",
    "\n",
    "hello('Fred', loud = True)\n"
   ]
  },
  {
   "cell_type": "markdown",
   "id": "95f10793",
   "metadata": {},
   "source": [
    "## 1-6"
   ]
  },
  {
   "cell_type": "code",
   "execution_count": 19,
   "id": "987d1efd",
   "metadata": {
    "scrolled": true
   },
   "outputs": [
    {
     "name": "stdout",
     "output_type": "stream",
     "text": [
      "1 4 7\n",
      "2 5 8\n",
      "3 6 9\n"
     ]
    },
    {
     "ename": "ValueError",
     "evalue": "too many values to unpack (expected 2)",
     "output_type": "error",
     "traceback": [
      "\u001b[1;31m---------------------------------------------------------------------------\u001b[0m",
      "\u001b[1;31mValueError\u001b[0m                                Traceback (most recent call last)",
      "\u001b[1;32mC:\\Users\\MHSTK_~1\\AppData\\Local\\Temp/ipykernel_13452/2324869789.py\u001b[0m in \u001b[0;36m<module>\u001b[1;34m\u001b[0m\n\u001b[0;32m      2\u001b[0m     \u001b[0mprint\u001b[0m\u001b[1;33m(\u001b[0m\u001b[0mx\u001b[0m\u001b[1;33m,\u001b[0m \u001b[0my\u001b[0m\u001b[1;33m,\u001b[0m \u001b[0mz\u001b[0m\u001b[1;33m)\u001b[0m\u001b[1;33m\u001b[0m\u001b[1;33m\u001b[0m\u001b[0m\n\u001b[0;32m      3\u001b[0m \u001b[1;33m\u001b[0m\u001b[0m\n\u001b[1;32m----> 4\u001b[1;33m \u001b[1;32mfor\u001b[0m \u001b[0mx\u001b[0m\u001b[1;33m,\u001b[0m \u001b[0my\u001b[0m \u001b[1;32min\u001b[0m \u001b[0mzip\u001b[0m\u001b[1;33m(\u001b[0m\u001b[1;33m[\u001b[0m\u001b[1;36m1\u001b[0m\u001b[1;33m,\u001b[0m \u001b[1;36m2\u001b[0m\u001b[1;33m,\u001b[0m \u001b[1;36m3\u001b[0m\u001b[1;33m]\u001b[0m\u001b[1;33m,\u001b[0m \u001b[1;33m[\u001b[0m\u001b[1;36m4\u001b[0m\u001b[1;33m,\u001b[0m \u001b[1;36m5\u001b[0m\u001b[1;33m,\u001b[0m \u001b[1;36m6\u001b[0m\u001b[1;33m]\u001b[0m\u001b[1;33m,\u001b[0m \u001b[1;33m[\u001b[0m\u001b[1;36m7\u001b[0m\u001b[1;33m,\u001b[0m \u001b[1;36m8\u001b[0m\u001b[1;33m,\u001b[0m \u001b[1;36m9\u001b[0m\u001b[1;33m]\u001b[0m\u001b[1;33m)\u001b[0m\u001b[1;33m:\u001b[0m\u001b[1;33m\u001b[0m\u001b[1;33m\u001b[0m\u001b[0m\n\u001b[0m\u001b[0;32m      5\u001b[0m     \u001b[0mprint\u001b[0m\u001b[1;33m(\u001b[0m\u001b[0mx\u001b[0m\u001b[1;33m,\u001b[0m \u001b[0my\u001b[0m\u001b[1;33m)\u001b[0m\u001b[1;33m\u001b[0m\u001b[1;33m\u001b[0m\u001b[0m\n",
      "\u001b[1;31mValueError\u001b[0m: too many values to unpack (expected 2)"
     ]
    }
   ],
   "source": [
    "for x, y, z in zip([1, 2, 3], [4, 5, 6], [7, 8, 9]):\n",
    "    print(x, y, z)\n",
    "\n",
    "for x, y in zip([1, 2, 3], [4, 5, 6], [7, 8, 9]):\n",
    "    print(x, y, z)\n",
    "    \n",
    "# z에 해당하는 객체가 for 인자 안에 존재하지 않음.\n"
   ]
  },
  {
   "cell_type": "markdown",
   "id": "1ded77c6",
   "metadata": {},
   "source": [
    "## 1-7"
   ]
  },
  {
   "cell_type": "code",
   "execution_count": 20,
   "id": "4dea3e3a",
   "metadata": {},
   "outputs": [
    {
     "name": "stdout",
     "output_type": "stream",
     "text": [
      "init\n"
     ]
    }
   ],
   "source": [
    "class HelloWorld() :\n",
    "    def __init__ (self) :\n",
    "        print(\"init\")\n",
    "        \n",
    "hellworld = HelloWorld()\n",
    "\n",
    "# __init__ 은 인스턴스를 호출할 때 따로 메소드를 사용하지 않고도 자동 호출되는 함수이다.\n"
   ]
  },
  {
   "cell_type": "markdown",
   "id": "0a5d3e13",
   "metadata": {},
   "source": [
    "## 1-8"
   ]
  },
  {
   "cell_type": "code",
   "execution_count": 24,
   "id": "e4388ba8",
   "metadata": {},
   "outputs": [
    {
     "name": "stdout",
     "output_type": "stream",
     "text": [
      "init\n",
      "init\n",
      "Hello World\n"
     ]
    }
   ],
   "source": [
    "class HelloWorld() :\n",
    "    def __init__(self):\n",
    "        print(\"init\")\n",
    "        \n",
    "helloworld = HelloWorld()\n",
    "\n",
    "callable(helloworld)\n",
    "\n",
    "class HelloWorld() :\n",
    "    def __init__(self) :\n",
    "        print(\"init\")\n",
    "        \n",
    "    def __call__(self) :\n",
    "        print(\"Hello World\")\n",
    "\n",
    "helloworld = HelloWorld()\n",
    "helloworld()"
   ]
  },
  {
   "cell_type": "markdown",
   "id": "525f035a",
   "metadata": {},
   "source": [
    "## __init__ 과 __call__ 의 차이.\n",
    "#### : init 은 객체를 클래스에 할당하면 호출하지 않아도 자동호출 되는 반면, \n",
    "#### call 은 인스턴스를 호출해야 비로소 호출된다."
   ]
  },
  {
   "cell_type": "markdown",
   "id": "a66b6d5a",
   "metadata": {},
   "source": [
    "# 1-9"
   ]
  },
  {
   "cell_type": "code",
   "execution_count": 29,
   "id": "1e9b03cf",
   "metadata": {
    "scrolled": true
   },
   "outputs": [
    {
     "name": "stdout",
     "output_type": "stream",
     "text": [
      "type(a) : <class 'numpy.ndarray'>\n",
      "a.shape : (3,)\n",
      "a.ndim : 1\n",
      "a[0], a[1], a[2] : 1 2 3\n",
      "a : [5 2 3]\n",
      "\n",
      "b.shape : (2, 3)\n",
      "b.ndim : 2\n",
      "b[0, 0], b[0, 1], b[1, 0] : 1 2 4\n"
     ]
    }
   ],
   "source": [
    "import numpy as np\n",
    "\n",
    "a = np.array([1, 2, 3])\n",
    "print(\"type(a) :\", type(a))\n",
    "print(\"a.shape :\", a.shape)\n",
    "print(\"a.ndim :\", a.ndim)\n",
    "print(\"a[0], a[1], a[2] :\", a[0], a[1], a[2])\n",
    "a[0] = 5\n",
    "print(\"a :\", a)\n",
    "print()\n",
    "\n",
    "b = np.array([[1, 2, 3],\n",
    "              [4, 5, 6]])\n",
    "print(\"b.shape :\", b.shape)\n",
    "print(\"b.ndim :\", b.ndim)\n",
    "print(\"b[0, 0], b[0, 1], b[1, 0] :\", b[0, 0], b[0, 1], b[1, 0])"
   ]
  },
  {
   "cell_type": "markdown",
   "id": "2134df36",
   "metadata": {},
   "source": [
    "# 1-10"
   ]
  },
  {
   "cell_type": "code",
   "execution_count": 33,
   "id": "dd94cad2",
   "metadata": {},
   "outputs": [
    {
     "name": "stdout",
     "output_type": "stream",
     "text": [
      "[[0. 0.]\n",
      " [0. 0.]]\n",
      "\n",
      "[[1. 1.]]\n",
      "\n",
      "[[7 7]\n",
      " [7 7]]\n",
      "\n",
      "[[1. 0.]\n",
      " [0. 1.]]\n",
      "\n",
      "[[0.77714078 0.97992905]\n",
      " [0.81006059 0.25354547]]\n"
     ]
    }
   ],
   "source": [
    "a = np.zeros((2, 2))\n",
    "print(a)\n",
    "print()\n",
    "\n",
    "b = np.ones((1, 2))\n",
    "print(b)\n",
    "print()\n",
    "\n",
    "c= np.full((2, 2), 7)\n",
    "print(c)\n",
    "print()\n",
    "\n",
    "d = np.eye(2)\n",
    "print(d)\n",
    "print()\n",
    "\n",
    "e = np.random.random((2, 2))\n",
    "print(e)"
   ]
  },
  {
   "cell_type": "markdown",
   "id": "fca9802a",
   "metadata": {},
   "source": [
    "# 1-11"
   ]
  },
  {
   "cell_type": "code",
   "execution_count": 38,
   "id": "671872c0",
   "metadata": {},
   "outputs": [
    {
     "name": "stdout",
     "output_type": "stream",
     "text": [
      "(array([0, 1, 2, 3, 4], dtype=int64),)\n",
      "[ 0  1  2  3  4 50 60 70 80 90]\n",
      "[ 0  1  2  3 -1 -1 -1 -1 -1 -1]\n"
     ]
    }
   ],
   "source": [
    "a = np.arange(10)\n",
    "print(np.where(a < 5))\n",
    "print(np.where(a < 5, a, 10 * a)) # a < 5 를 찾아서 True => 그대로, False => X 10\n",
    "print(np.where(a < 4, a, -1))"
   ]
  },
  {
   "cell_type": "markdown",
   "id": "2b92c7a4",
   "metadata": {},
   "source": [
    "# 1-12"
   ]
  },
  {
   "cell_type": "code",
   "execution_count": 48,
   "id": "ba005d09",
   "metadata": {},
   "outputs": [
    {
     "name": "stdout",
     "output_type": "stream",
     "text": [
      "[[2 3]\n",
      " [6 7]]\n",
      "a[0, 1] : 2\n",
      "a[0, 1] : 77\n"
     ]
    }
   ],
   "source": [
    "a =np.array([[1, 2, 3, 4],\n",
    "             [5, 6, 7, 8],\n",
    "             [9, 10, 11, 12]])\n",
    "\n",
    "b = a[:2, 1:3] \n",
    "print(b)\n",
    "\n",
    "print(\"a[0, 1] :\", a[0, 1])\n",
    "\n",
    "b[0, 0] =77\n",
    "print(\"a[0, 1] :\", a[0, 1]) # .copy() 사용시 다른 메모리에 저장되어 a의 값 불변\n"
   ]
  },
  {
   "cell_type": "markdown",
   "id": "b1948314",
   "metadata": {},
   "source": [
    "# 1-13"
   ]
  },
  {
   "cell_type": "code",
   "execution_count": 49,
   "id": "dd7e4348",
   "metadata": {},
   "outputs": [
    {
     "name": "stdout",
     "output_type": "stream",
     "text": [
      "[[ 1  2  3  4  5  6]\n",
      " [ 7  8  9 10 11 12]]\n",
      "a[0, 1] : 2\n",
      "a[0, 1] : 2\n"
     ]
    }
   ],
   "source": [
    "a =np.array([[1, 2, 3, 4],\n",
    "             [5, 6, 7, 8],\n",
    "             [9, 10, 11, 12]])\n",
    "\n",
    "b = np.reshape(a, (2, 6))\n",
    "print(b)\n",
    "\n",
    "print(\"a[0, 1] :\", a[0, 1])\n",
    "\n",
    "b[0, 0] =77\n",
    "print(\"a[0, 1] :\", a[0, 1])"
   ]
  },
  {
   "cell_type": "markdown",
   "id": "a7491379",
   "metadata": {},
   "source": [
    "# 1-14"
   ]
  },
  {
   "cell_type": "code",
   "execution_count": 51,
   "id": "3d4db8ad",
   "metadata": {},
   "outputs": [
    {
     "data": {
      "text/plain": [
       "array([[4, 1],\n",
       "       [2, 2]])"
      ]
     },
     "execution_count": 51,
     "metadata": {},
     "output_type": "execute_result"
    }
   ],
   "source": [
    "a = np.array([[1, 0], [0, 1]])\n",
    "b = np.array([[4, 1], [2, 2]])\n",
    "\n",
    "np.dot(a, b)"
   ]
  },
  {
   "cell_type": "markdown",
   "id": "7cf3fef2",
   "metadata": {},
   "source": [
    "# 1.15"
   ]
  },
  {
   "cell_type": "code",
   "execution_count": 54,
   "id": "bd8a3ad8",
   "metadata": {},
   "outputs": [
    {
     "name": "stdout",
     "output_type": "stream",
     "text": [
      "torch.Size([7])\n",
      "torch.Size([7])\n",
      "1\n",
      "torch.Size([7])\n",
      "tensor([0., 1.])\n",
      "tensor([3., 4., 5., 6.])\n"
     ]
    }
   ],
   "source": [
    "import torch\n",
    "import numpy as np\n",
    "\n",
    "t1 = torch.FloatTensor([0, 1, 2, 3, 4, 5, 6,])\n",
    "t2 = torch.FloatTensor(np.arange(7))\n",
    "\n",
    "print(t1.shape)\n",
    "print(t2.shape)\n",
    "print(t1.dim())\n",
    "print(t2.size())\n",
    "print(t1[:2])\n",
    "print(t1[3:])"
   ]
  },
  {
   "cell_type": "markdown",
   "id": "f0f33a11",
   "metadata": {},
   "source": [
    "# 1-16"
   ]
  },
  {
   "cell_type": "code",
   "execution_count": 57,
   "id": "b127f6d5",
   "metadata": {},
   "outputs": [
    {
     "name": "stdout",
     "output_type": "stream",
     "text": [
      "<class 'numpy.ndarray'>\n",
      "<class 'torch.Tensor'>\n",
      "<class 'torch.Tensor'>\n",
      "<class 'torch.Tensor'>\n",
      "tensor([0, 1, 2, 3, 4, 5, 6], dtype=torch.int32)\n",
      "tensor([0, 1, 2, 3, 4, 5, 6], dtype=torch.int32)\n"
     ]
    }
   ],
   "source": [
    "b = np.arange(7)\n",
    "t1 = torch.FloatTensor([0, 1, 2, 3, 4, 5, 6])\n",
    "print(type(b))\n",
    "print(type(t1))\n",
    "\n",
    "tt = torch.tensor(b) # b를 copy한 객체\n",
    "t_from = torch.from_numpy(b) # b와 같은 메모리에 저장\n",
    "\n",
    "print(type(tt))\n",
    "print(type(t_from))\n",
    "print(tt)\n",
    "print(t_from)"
   ]
  },
  {
   "cell_type": "markdown",
   "id": "246a4a84",
   "metadata": {},
   "source": [
    "# 1-17"
   ]
  },
  {
   "cell_type": "code",
   "execution_count": 59,
   "id": "d722132d",
   "metadata": {},
   "outputs": [
    {
     "name": "stdout",
     "output_type": "stream",
     "text": [
      "tensor([0, 1, 2, 3, 4, 5, 6], dtype=torch.int32)\n",
      "tensor([-10,   1,   2,   3,   4,   5,   6], dtype=torch.int32)\n",
      "<class 'numpy.ndarray'>\n"
     ]
    }
   ],
   "source": [
    "b[0] = -10\n",
    "print(tt)\n",
    "print(t_from)\n",
    "\n",
    "t_to_np = t_from.numpy()\n",
    "print(type(t_to_np))"
   ]
  },
  {
   "cell_type": "markdown",
   "id": "e0721a35",
   "metadata": {},
   "source": [
    "# 1-18"
   ]
  },
  {
   "cell_type": "code",
   "execution_count": 64,
   "id": "9a827b7f",
   "metadata": {},
   "outputs": [
    {
     "name": "stdout",
     "output_type": "stream",
     "text": [
      "tensor([[5., 5.]])\n",
      "tensor([[4., 5.]])\n",
      "tensor([[4., 5.],\n",
      "        [5., 6.]])\n"
     ]
    }
   ],
   "source": [
    "m1 = torch.FloatTensor([[3, 3]])\n",
    "m2 = torch.FloatTensor([[2, 2]])\n",
    "\n",
    "print(m1 + m2)\n",
    "\n",
    "m1 = torch.FloatTensor([[1, 2]])\n",
    "m2 = torch.FloatTensor([3])\n",
    "\n",
    "print(m1 + m2)\n",
    "\n",
    "m1 = torch.FloatTensor([[1, 2]])\n",
    "m2 = torch.FloatTensor([[3], [4]])\n",
    "\n",
    "print(m1 + m2)"
   ]
  },
  {
   "cell_type": "markdown",
   "id": "4a6ffc95",
   "metadata": {},
   "source": [
    "# 1-19"
   ]
  },
  {
   "cell_type": "code",
   "execution_count": 66,
   "id": "c2b26a14",
   "metadata": {},
   "outputs": [
    {
     "name": "stdout",
     "output_type": "stream",
     "text": [
      "tensor([[1., 2.],\n",
      "        [6., 8.]])\n",
      "tensor([[1., 2.],\n",
      "        [6., 8.]])\n",
      "tensor([[ 5.],\n",
      "        [11.]])\n"
     ]
    }
   ],
   "source": [
    "m1 = torch.FloatTensor([[1, 2],\n",
    "                        [3, 4]])\n",
    "m2 = torch.FloatTensor([[1],\n",
    "                        [2]])\n",
    "\n",
    "print(m1 * m2)\n",
    "print(m1.mul(m2))\n",
    "print(m1.matmul(m2))"
   ]
  },
  {
   "cell_type": "markdown",
   "id": "57aded20",
   "metadata": {},
   "source": [
    "# 1-20"
   ]
  },
  {
   "cell_type": "code",
   "execution_count": 73,
   "id": "c0c577a6",
   "metadata": {},
   "outputs": [
    {
     "name": "stdout",
     "output_type": "stream",
     "text": [
      "[[[ 0  1  2]\n",
      "  [ 3  4  5]]\n",
      "\n",
      " [[ 6  7  8]\n",
      "  [ 9 10 11]]] (2, 2, 3)\n",
      "torch.Size([2, 2, 3])\n",
      "\n",
      "tensor([[ 0.,  1.,  2.],\n",
      "        [ 3.,  4.,  5.],\n",
      "        [ 6.,  7.,  8.],\n",
      "        [ 9., 10., 11.]])\n"
     ]
    }
   ],
   "source": [
    "t = np.arange(12).reshape(-1, 2, 3) # (2, 2, 3)\n",
    "print(t, t.shape)\n",
    "\n",
    "floatT = torch.FloatTensor(t)\n",
    "print(floatT.shape)\n",
    "print()\n",
    "\n",
    "print(floatT.view([-1, 3])) # (4, 3)\n"
   ]
  }
 ],
 "metadata": {
  "kernelspec": {
   "display_name": "Python 3 (ipykernel)",
   "language": "python",
   "name": "python3"
  },
  "language_info": {
   "codemirror_mode": {
    "name": "ipython",
    "version": 3
   },
   "file_extension": ".py",
   "mimetype": "text/x-python",
   "name": "python",
   "nbconvert_exporter": "python",
   "pygments_lexer": "ipython3",
   "version": "3.7.11"
  }
 },
 "nbformat": 4,
 "nbformat_minor": 5
}
