{
 "cells": [
  {
   "cell_type": "markdown",
   "id": "ab9d7bcf",
   "metadata": {},
   "source": [
    "# HW03 - 2"
   ]
  },
  {
   "cell_type": "code",
   "execution_count": 54,
   "id": "9435e5ae",
   "metadata": {},
   "outputs": [],
   "source": [
    "import numpy as np\n",
    "\n",
    "x = np.array([[0.4, 0.6, 0.9],\n",
    "              [0.5, 0.5, 0.7],\n",
    "              [0.7, 0.8, 0.1]])\n",
    "\n",
    "o = np.array([[0.5, 0.3, 0.4],\n",
    "              [0.5, 0.4, 0.5],\n",
    "              [0.7, 0.8, 0.1]])"
   ]
  },
  {
   "cell_type": "code",
   "execution_count": 55,
   "id": "dfbf581e",
   "metadata": {},
   "outputs": [],
   "source": [
    "def MSE (x, o) :\n",
    "    return 0.5 * np.sum((x - o) ** 2)"
   ]
  },
  {
   "cell_type": "code",
   "execution_count": 56,
   "id": "5f907ae3",
   "metadata": {},
   "outputs": [
    {
     "name": "stdout",
     "output_type": "stream",
     "text": [
      "0.19999999999999998\n"
     ]
    }
   ],
   "source": [
    "error = 0 \n",
    "\n",
    "for i in range(len(x1)):\n",
    "    error += MSE(x[i] , o[i])\n",
    "\n",
    "print(error)"
   ]
  },
  {
   "cell_type": "markdown",
   "id": "0d892d4f",
   "metadata": {},
   "source": [
    "# HW03 - 4"
   ]
  },
  {
   "cell_type": "code",
   "execution_count": 3,
   "id": "89273a3c",
   "metadata": {},
   "outputs": [],
   "source": [
    "import numpy as np\n",
    "import matplotlib.pyplot as plt"
   ]
  },
  {
   "cell_type": "code",
   "execution_count": 4,
   "id": "3872d721",
   "metadata": {},
   "outputs": [],
   "source": [
    "def sigmoid (x) :\n",
    "    return 1 / (1 + np.exp(-x))"
   ]
  },
  {
   "cell_type": "code",
   "execution_count": 5,
   "id": "57c63f9f",
   "metadata": {},
   "outputs": [],
   "source": [
    "def MSE (x, o) :\n",
    "    return 0.5 * np.sum((x - o) ** 2)"
   ]
  },
  {
   "cell_type": "code",
   "execution_count": 7,
   "id": "4a183f6d",
   "metadata": {},
   "outputs": [
    {
     "name": "stdout",
     "output_type": "stream",
     "text": [
      "w1, epoch = 1 : 1.0052\n",
      "w2, epoch = 1 : 1.0014\n"
     ]
    },
    {
     "data": {
      "image/png": "[encoded data removed]",
      "text/plain": [
       "<Figure size 432x288 with 1 Axes>"
      ]
     },
     "metadata": {
      "needs_background": "light"
     },
     "output_type": "display_data"
    }
   ],
   "source": [
    "x = 1 ; y = 1\n",
    "\n",
    "list_w1 = [1]\n",
    "list_w2 = [1]\n",
    "list_error = []\n",
    "\n",
    "\n",
    "for i in range(0, 1000) :\n",
    "    net_1 = list_w1[i] * x\n",
    "    h = sigmoid(net_1)\n",
    "    net_2 = list_w2[i] * h\n",
    "    o1 = sigmoid(net_2)\n",
    "    list_error.append(MSE(y, o1))\n",
    "    \n",
    "    list_w1.append(list_w1[i] - 0.1 * (-0.052))\n",
    "    list_w2.append(list_w2[i] - 0.1 * (-0.014))\n",
    "\n",
    "    \n",
    "plt.plot(list_error, color = 'red')\n",
    "plt.ylabel(\"Error\")\n",
    "plt.xlabel(\"epoch\")\n",
    "\n",
    "\n",
    "print(\"w1, epoch = 1 :\", list_w1[1])\n",
    "print(\"w2, epoch = 1 :\", list_w2[1])"
   ]
  }
 ],
 "metadata": {
  "kernelspec": {
   "display_name": "Python 3 (ipykernel)",
   "language": "python",
   "name": "python3"
  },
  "language_info": {
   "codemirror_mode": {
    "name": "ipython",
    "version": 3
   },
   "file_extension": ".py",
   "mimetype": "text/x-python",
   "name": "python",
   "nbconvert_exporter": "python",
   "pygments_lexer": "ipython3",
   "version": "3.7.11"
  }
 },
 "nbformat": 4,
 "nbformat_minor": 5
}
