{
 "cells": [
  {
   "cell_type": "markdown",
   "id": "2697d675",
   "metadata": {},
   "source": [
    "# EBP - Forward loop"
   ]
  },
  {
   "cell_type": "code",
   "execution_count": 1,
   "id": "45cf3499",
   "metadata": {},
   "outputs": [],
   "source": [
    "import numpy as np\n",
    "import pandas as pd"
   ]
  },
  {
   "cell_type": "code",
   "execution_count": 2,
   "id": "734f1839",
   "metadata": {},
   "outputs": [
    {
     "name": "stdout",
     "output_type": "stream",
     "text": [
      "   x_n1  x_n2  t_n1\n",
      "1     1     1     0\n",
      "2     1     0     1\n",
      "3     0     1     1\n",
      "4     0     0     0\n"
     ]
    }
   ],
   "source": [
    "x = {\"x_n1\" : [1, 1, 0, 0],\n",
    "     \"x_n2\" : [1,0 , 1, 0],\n",
    "     \"t_n1\" : [0, 1, 1, 0]}\n",
    "\n",
    "x = pd.DataFrame(x, index = [1, 2, 3, 4])\n",
    "print(x)"
   ]
  },
  {
   "cell_type": "code",
   "execution_count": 3,
   "id": "ab3e3269",
   "metadata": {},
   "outputs": [],
   "source": [
    "def sigmoid (x):\n",
    "    return 1 / (1 + np.exp(-x))"
   ]
  },
  {
   "cell_type": "code",
   "execution_count": 4,
   "id": "abb4e3de",
   "metadata": {},
   "outputs": [],
   "source": [
    "def net_nj (w11, w12, w13, x):\n",
    "    net_nj = w11 * x[0] + w12 * x[1] + w13\n",
    "    return net_nj"
   ]
  },
  {
   "cell_type": "code",
   "execution_count": 5,
   "id": "9465a8fc",
   "metadata": {},
   "outputs": [],
   "source": [
    "def net_nk (v11, v12, v13, h_n1, h_n2):\n",
    "    net_nk = v11 * h_n1 + v12 * h_n2 + v13\n",
    "    return net_nk"
   ]
  },
  {
   "cell_type": "code",
   "execution_count": 6,
   "id": "3e5d02a8",
   "metadata": {},
   "outputs": [],
   "source": [
    "w1i = [-0.089, 0.028, 0.092]\n",
    "w2i = [0.098, -0.07, -0.01]\n",
    "\n",
    "v_kj = [0.056, 0.067, 0.016]"
   ]
  },
  {
   "cell_type": "code",
   "execution_count": 7,
   "id": "f0ec872a",
   "metadata": {
    "scrolled": true
   },
   "outputs": [
    {
     "name": "stdout",
     "output_type": "stream",
     "text": [
      "   x_n1  x_n2  t_n1  net_n1(j)  net_n2(j)      h_n1      h_n2  net_n1(k)  \\\n",
      "1     1     1     0      0.031      0.018  0.507749  0.504500   0.078235   \n",
      "2     1     0     1      0.003      0.088  0.500750  0.521986   0.079015   \n",
      "3     0     1     1      0.120     -0.080  0.529964  0.480011   0.077839   \n",
      "4     0     0     0      0.092     -0.010  0.522984  0.497500   0.078620   \n",
      "\n",
      "       o_nk  \n",
      "1  0.519549  \n",
      "2  0.519743  \n",
      "3  0.519450  \n",
      "4  0.519645  \n"
     ]
    }
   ],
   "source": [
    "net_n1_j = []\n",
    "net_n2_j = []\n",
    "    \n",
    "h_n1 = []\n",
    "h_n2 = []  \n",
    "\n",
    "net_n1_k = []\n",
    "net_n2_k = []\n",
    "\n",
    "o_nk = []\n",
    "\n",
    "for i in range(len(x[\"x_n1\"])) :\n",
    "    net_n1_j.append(net_nj (w1i[0], w1i[1], w1i[2], x.iloc[i]))\n",
    "    net_n2_j.append(net_nj (w2i[0], w2i[1], w2i[2], x.iloc[i]))\n",
    "    \n",
    "    h_n1.append(sigmoid(net_n1_j[i]))\n",
    "    h_n2.append(sigmoid(net_n2_j[i]))\n",
    "    \n",
    "    net_n1_k.append(net_nk(v_kj[0], v_kj[1], v_kj[2], h_n1[i], h_n2[i]))\n",
    "    \n",
    "    o_nk.append(sigmoid(net_n1_k[i]))\n",
    "\n",
    "x[\"net_n1(j)\"] = net_n1_j\n",
    "x[\"net_n2(j)\"] = net_n2_j \n",
    "\n",
    "x[\"h_n1\"] = h_n1\n",
    "x[\"h_n2\"] = h_n2\n",
    "\n",
    "x[\"net_n1(k)\"] = net_n1_k\n",
    "\n",
    "x[\"o_nk\"] = o_nk\n",
    "\n",
    "print(x)\n",
    "    "
   ]
  },
  {
   "cell_type": "code",
   "execution_count": 8,
   "id": "a0ebfc27",
   "metadata": {
    "scrolled": false
   },
   "outputs": [
    {
     "name": "stdout",
     "output_type": "stream",
     "text": [
      "   x_n1  x_n2  x_n3  t_n1  net_n1(j)  net_n2(j)      h_n1      h_n2  \\\n",
      "1     1     1     1     0      0.031      0.018  0.507749  0.504500   \n",
      "2     1     0     1     1      0.003      0.088  0.500750  0.521986   \n",
      "3     0     1     1     1      0.120     -0.080  0.529964  0.480011   \n",
      "4     0     0     1     0      0.092     -0.010  0.522984  0.497500   \n",
      "\n",
      "   net_n1(k)      o_nk  \n",
      "1   0.078235  0.519549  \n",
      "2   0.079015  0.519743  \n",
      "3   0.077839  0.519450  \n",
      "4   0.078620  0.519645  \n"
     ]
    }
   ],
   "source": [
    "x.insert(2, \"x_n3\", [1, 1, 1, 1])\n",
    "print(x)"
   ]
  },
  {
   "cell_type": "markdown",
   "id": "f47e8b76",
   "metadata": {},
   "source": [
    "# Backward loop"
   ]
  },
  {
   "cell_type": "code",
   "execution_count": 9,
   "id": "89247640",
   "metadata": {},
   "outputs": [],
   "source": [
    "def En_vkj (t_nk, o_nk, h_nj) :\n",
    "    En_vkj = -(t_nk - o_nk) * o_nk * (1 - o_nk) * h_nj\n",
    "    return En_vkj"
   ]
  },
  {
   "cell_type": "code",
   "execution_count": 10,
   "id": "5559ec0b",
   "metadata": {},
   "outputs": [],
   "source": [
    "def En_wji (x_ni, h_nj, v_kj, t_nk, o_nk) :\n",
    "    En_wji = -(x_ni * h_nj) * (1 - h_nj) * v_kj * (t_nk - o_nk) * o_nk * (1 - o_nk)"
   ]
  },
  {
   "cell_type": "code",
   "execution_count": 11,
   "id": "376ab34f",
   "metadata": {},
   "outputs": [
    {
     "data": {
      "text/plain": [
       "0"
      ]
     },
     "execution_count": 11,
     "metadata": {},
     "output_type": "execute_result"
    }
   ],
   "source": [
    "x[\"t_n1\"][1]"
   ]
  },
  {
   "cell_type": "code",
   "execution_count": 12,
   "id": "8bd0aa1f",
   "metadata": {
    "scrolled": true
   },
   "outputs": [
    {
     "ename": "KeyError",
     "evalue": "'h_n3'",
     "output_type": "error",
     "traceback": [
      "\u001b[1;31m---------------------------------------------------------------------------\u001b[0m",
      "\u001b[1;31mKeyError\u001b[0m                                  Traceback (most recent call last)",
      "\u001b[1;32m~\\anaconda3\\envs\\pytorch\\lib\\site-packages\\pandas\\core\\indexes\\base.py\u001b[0m in \u001b[0;36mget_loc\u001b[1;34m(self, key, method, tolerance)\u001b[0m\n\u001b[0;32m   3360\u001b[0m             \u001b[1;32mtry\u001b[0m\u001b[1;33m:\u001b[0m\u001b[1;33m\u001b[0m\u001b[1;33m\u001b[0m\u001b[0m\n\u001b[1;32m-> 3361\u001b[1;33m                 \u001b[1;32mreturn\u001b[0m \u001b[0mself\u001b[0m\u001b[1;33m.\u001b[0m\u001b[0m_engine\u001b[0m\u001b[1;33m.\u001b[0m\u001b[0mget_loc\u001b[0m\u001b[1;33m(\u001b[0m\u001b[0mcasted_key\u001b[0m\u001b[1;33m)\u001b[0m\u001b[1;33m\u001b[0m\u001b[1;33m\u001b[0m\u001b[0m\n\u001b[0m\u001b[0;32m   3362\u001b[0m             \u001b[1;32mexcept\u001b[0m \u001b[0mKeyError\u001b[0m \u001b[1;32mas\u001b[0m \u001b[0merr\u001b[0m\u001b[1;33m:\u001b[0m\u001b[1;33m\u001b[0m\u001b[1;33m\u001b[0m\u001b[0m\n",
      "\u001b[1;32m~\\anaconda3\\envs\\pytorch\\lib\\site-packages\\pandas\\_libs\\index.pyx\u001b[0m in \u001b[0;36mpandas._libs.index.IndexEngine.get_loc\u001b[1;34m()\u001b[0m\n",
      "\u001b[1;32m~\\anaconda3\\envs\\pytorch\\lib\\site-packages\\pandas\\_libs\\index.pyx\u001b[0m in \u001b[0;36mpandas._libs.index.IndexEngine.get_loc\u001b[1;34m()\u001b[0m\n",
      "\u001b[1;32mpandas\\_libs\\hashtable_class_helper.pxi\u001b[0m in \u001b[0;36mpandas._libs.hashtable.PyObjectHashTable.get_item\u001b[1;34m()\u001b[0m\n",
      "\u001b[1;32mpandas\\_libs\\hashtable_class_helper.pxi\u001b[0m in \u001b[0;36mpandas._libs.hashtable.PyObjectHashTable.get_item\u001b[1;34m()\u001b[0m\n",
      "\u001b[1;31mKeyError\u001b[0m: 'h_n3'",
      "\nThe above exception was the direct cause of the following exception:\n",
      "\u001b[1;31mKeyError\u001b[0m                                  Traceback (most recent call last)",
      "\u001b[1;32mC:\\Users\\MHSTK_~1\\AppData\\Local\\Temp/ipykernel_4956/2241355951.py\u001b[0m in \u001b[0;36m<module>\u001b[1;34m\u001b[0m\n\u001b[0;32m      6\u001b[0m     \u001b[0mEn_v11\u001b[0m\u001b[1;33m.\u001b[0m\u001b[0mappend\u001b[0m\u001b[1;33m(\u001b[0m\u001b[0mEn_vkj\u001b[0m\u001b[1;33m(\u001b[0m\u001b[0mx\u001b[0m\u001b[1;33m[\u001b[0m\u001b[1;34m\"t_n1\"\u001b[0m\u001b[1;33m]\u001b[0m\u001b[1;33m[\u001b[0m\u001b[0mi\u001b[0m\u001b[1;33m]\u001b[0m\u001b[1;33m,\u001b[0m \u001b[0mx\u001b[0m\u001b[1;33m[\u001b[0m\u001b[1;34m\"o_nk\"\u001b[0m\u001b[1;33m]\u001b[0m\u001b[1;33m[\u001b[0m\u001b[0mi\u001b[0m\u001b[1;33m]\u001b[0m\u001b[1;33m,\u001b[0m \u001b[0mx\u001b[0m\u001b[1;33m[\u001b[0m\u001b[1;34m\"h_n1\"\u001b[0m\u001b[1;33m]\u001b[0m\u001b[1;33m[\u001b[0m\u001b[0mi\u001b[0m\u001b[1;33m]\u001b[0m\u001b[1;33m)\u001b[0m\u001b[1;33m)\u001b[0m\u001b[1;33m\u001b[0m\u001b[1;33m\u001b[0m\u001b[0m\n\u001b[0;32m      7\u001b[0m     \u001b[0mEn_v12\u001b[0m\u001b[1;33m.\u001b[0m\u001b[0mappend\u001b[0m\u001b[1;33m(\u001b[0m\u001b[0mEn_vkj\u001b[0m\u001b[1;33m(\u001b[0m\u001b[0mx\u001b[0m\u001b[1;33m[\u001b[0m\u001b[1;34m\"t_n1\"\u001b[0m\u001b[1;33m]\u001b[0m\u001b[1;33m[\u001b[0m\u001b[0mi\u001b[0m\u001b[1;33m]\u001b[0m\u001b[1;33m,\u001b[0m \u001b[0mx\u001b[0m\u001b[1;33m[\u001b[0m\u001b[1;34m\"o_nk\"\u001b[0m\u001b[1;33m]\u001b[0m\u001b[1;33m[\u001b[0m\u001b[0mi\u001b[0m\u001b[1;33m]\u001b[0m\u001b[1;33m,\u001b[0m \u001b[0mx\u001b[0m\u001b[1;33m[\u001b[0m\u001b[1;34m\"h_n2\"\u001b[0m\u001b[1;33m]\u001b[0m\u001b[1;33m[\u001b[0m\u001b[0mi\u001b[0m\u001b[1;33m]\u001b[0m\u001b[1;33m)\u001b[0m\u001b[1;33m)\u001b[0m\u001b[1;33m\u001b[0m\u001b[1;33m\u001b[0m\u001b[0m\n\u001b[1;32m----> 8\u001b[1;33m     \u001b[0mEn_v13\u001b[0m\u001b[1;33m.\u001b[0m\u001b[0mappend\u001b[0m\u001b[1;33m(\u001b[0m\u001b[0mEn_vkj\u001b[0m\u001b[1;33m(\u001b[0m\u001b[0mx\u001b[0m\u001b[1;33m[\u001b[0m\u001b[1;34m\"t_n1\"\u001b[0m\u001b[1;33m]\u001b[0m\u001b[1;33m[\u001b[0m\u001b[0mi\u001b[0m\u001b[1;33m]\u001b[0m\u001b[1;33m,\u001b[0m \u001b[0mx\u001b[0m\u001b[1;33m[\u001b[0m\u001b[1;34m\"o_nk\"\u001b[0m\u001b[1;33m]\u001b[0m\u001b[1;33m[\u001b[0m\u001b[0mi\u001b[0m\u001b[1;33m]\u001b[0m\u001b[1;33m,\u001b[0m \u001b[0mx\u001b[0m\u001b[1;33m[\u001b[0m\u001b[1;34m\"h_n3\"\u001b[0m\u001b[1;33m]\u001b[0m\u001b[1;33m[\u001b[0m\u001b[0mi\u001b[0m\u001b[1;33m]\u001b[0m\u001b[1;33m)\u001b[0m\u001b[1;33m)\u001b[0m\u001b[1;33m\u001b[0m\u001b[1;33m\u001b[0m\u001b[0m\n\u001b[0m\u001b[0;32m      9\u001b[0m \u001b[1;33m\u001b[0m\u001b[0m\n\u001b[0;32m     10\u001b[0m \u001b[0mx\u001b[0m\u001b[1;33m[\u001b[0m\u001b[1;34m\"En_v11\"\u001b[0m\u001b[1;33m]\u001b[0m \u001b[1;33m=\u001b[0m \u001b[0mEn_v11\u001b[0m\u001b[1;33m\u001b[0m\u001b[1;33m\u001b[0m\u001b[0m\n",
      "\u001b[1;32m~\\anaconda3\\envs\\pytorch\\lib\\site-packages\\pandas\\core\\frame.py\u001b[0m in \u001b[0;36m__getitem__\u001b[1;34m(self, key)\u001b[0m\n\u001b[0;32m   3456\u001b[0m             \u001b[1;32mif\u001b[0m \u001b[0mself\u001b[0m\u001b[1;33m.\u001b[0m\u001b[0mcolumns\u001b[0m\u001b[1;33m.\u001b[0m\u001b[0mnlevels\u001b[0m \u001b[1;33m>\u001b[0m \u001b[1;36m1\u001b[0m\u001b[1;33m:\u001b[0m\u001b[1;33m\u001b[0m\u001b[1;33m\u001b[0m\u001b[0m\n\u001b[0;32m   3457\u001b[0m                 \u001b[1;32mreturn\u001b[0m \u001b[0mself\u001b[0m\u001b[1;33m.\u001b[0m\u001b[0m_getitem_multilevel\u001b[0m\u001b[1;33m(\u001b[0m\u001b[0mkey\u001b[0m\u001b[1;33m)\u001b[0m\u001b[1;33m\u001b[0m\u001b[1;33m\u001b[0m\u001b[0m\n\u001b[1;32m-> 3458\u001b[1;33m             \u001b[0mindexer\u001b[0m \u001b[1;33m=\u001b[0m \u001b[0mself\u001b[0m\u001b[1;33m.\u001b[0m\u001b[0mcolumns\u001b[0m\u001b[1;33m.\u001b[0m\u001b[0mget_loc\u001b[0m\u001b[1;33m(\u001b[0m\u001b[0mkey\u001b[0m\u001b[1;33m)\u001b[0m\u001b[1;33m\u001b[0m\u001b[1;33m\u001b[0m\u001b[0m\n\u001b[0m\u001b[0;32m   3459\u001b[0m             \u001b[1;32mif\u001b[0m \u001b[0mis_integer\u001b[0m\u001b[1;33m(\u001b[0m\u001b[0mindexer\u001b[0m\u001b[1;33m)\u001b[0m\u001b[1;33m:\u001b[0m\u001b[1;33m\u001b[0m\u001b[1;33m\u001b[0m\u001b[0m\n\u001b[0;32m   3460\u001b[0m                 \u001b[0mindexer\u001b[0m \u001b[1;33m=\u001b[0m \u001b[1;33m[\u001b[0m\u001b[0mindexer\u001b[0m\u001b[1;33m]\u001b[0m\u001b[1;33m\u001b[0m\u001b[1;33m\u001b[0m\u001b[0m\n",
      "\u001b[1;32m~\\anaconda3\\envs\\pytorch\\lib\\site-packages\\pandas\\core\\indexes\\base.py\u001b[0m in \u001b[0;36mget_loc\u001b[1;34m(self, key, method, tolerance)\u001b[0m\n\u001b[0;32m   3361\u001b[0m                 \u001b[1;32mreturn\u001b[0m \u001b[0mself\u001b[0m\u001b[1;33m.\u001b[0m\u001b[0m_engine\u001b[0m\u001b[1;33m.\u001b[0m\u001b[0mget_loc\u001b[0m\u001b[1;33m(\u001b[0m\u001b[0mcasted_key\u001b[0m\u001b[1;33m)\u001b[0m\u001b[1;33m\u001b[0m\u001b[1;33m\u001b[0m\u001b[0m\n\u001b[0;32m   3362\u001b[0m             \u001b[1;32mexcept\u001b[0m \u001b[0mKeyError\u001b[0m \u001b[1;32mas\u001b[0m \u001b[0merr\u001b[0m\u001b[1;33m:\u001b[0m\u001b[1;33m\u001b[0m\u001b[1;33m\u001b[0m\u001b[0m\n\u001b[1;32m-> 3363\u001b[1;33m                 \u001b[1;32mraise\u001b[0m \u001b[0mKeyError\u001b[0m\u001b[1;33m(\u001b[0m\u001b[0mkey\u001b[0m\u001b[1;33m)\u001b[0m \u001b[1;32mfrom\u001b[0m \u001b[0merr\u001b[0m\u001b[1;33m\u001b[0m\u001b[1;33m\u001b[0m\u001b[0m\n\u001b[0m\u001b[0;32m   3364\u001b[0m \u001b[1;33m\u001b[0m\u001b[0m\n\u001b[0;32m   3365\u001b[0m         \u001b[1;32mif\u001b[0m \u001b[0mis_scalar\u001b[0m\u001b[1;33m(\u001b[0m\u001b[0mkey\u001b[0m\u001b[1;33m)\u001b[0m \u001b[1;32mand\u001b[0m \u001b[0misna\u001b[0m\u001b[1;33m(\u001b[0m\u001b[0mkey\u001b[0m\u001b[1;33m)\u001b[0m \u001b[1;32mand\u001b[0m \u001b[1;32mnot\u001b[0m \u001b[0mself\u001b[0m\u001b[1;33m.\u001b[0m\u001b[0mhasnans\u001b[0m\u001b[1;33m:\u001b[0m\u001b[1;33m\u001b[0m\u001b[1;33m\u001b[0m\u001b[0m\n",
      "\u001b[1;31mKeyError\u001b[0m: 'h_n3'"
     ]
    }
   ],
   "source": [
    "En_v11 = []\n",
    "En_v12 = []\n",
    "En_v13 = []\n",
    "\n",
    "for i in range(1,len(x[\"x_n1\"]) + 1) :\n",
    "    En_v11.append(En_vkj(x[\"t_n1\"][i], x[\"o_nk\"][i], x[\"h_n1\"][i]))\n",
    "    En_v12.append(En_vkj(x[\"t_n1\"][i], x[\"o_nk\"][i], x[\"h_n2\"][i]))\n",
    "    En_v13.append(En_vkj(x[\"t_n1\"][i], x[\"o_nk\"][i], x[\"h_n3\"][i]))\n",
    "    \n",
    "x[\"En_v11\"] = En_v11\n",
    "x[\"En_v12\"] = En_v12\n",
    "x[\"En_v13\"] = En_v13\n",
    "\n",
    "print(x)"
   ]
  },
  {
   "cell_type": "code",
   "execution_count": null,
   "id": "dea561a2",
   "metadata": {},
   "outputs": [],
   "source": [
    "def En_wji (x_ni, h_nj, v_kj, t_nk, o_nk) :\n",
    "    En_wji = -(x_ni * h_nj) * (1 - h_nj) * v_kj * (t_nk - o_nk) * o_nk * (1 - o_nk)\n",
    "    return En_wji"
   ]
  },
  {
   "cell_type": "code",
   "execution_count": null,
   "id": "1f50b720",
   "metadata": {},
   "outputs": [],
   "source": [
    "En_w11 = [] ; En_w12 = [] ; En_w13 = []\n",
    "En_w21 = [] ; En_w22 = [] ; En_w23 = []\n",
    "\n",
    "for i in range(1, len(x[\"x_n1\"]) + 1) :\n",
    "    En_w11.append(En_wji(x[\"x_n1\"][i], x[\"h_n1\"][i], v_kj[0], x[\"t_n1\"][i], x[\"o_nk\"][i]))\n",
    "    En_w12.append(En_wji(x[\"x_n2\"][i], x[\"h_n1\"][i], v_kj[0], x[\"t_n1\"][i], x[\"o_nk\"][i]))\n",
    "    En_w13.append(En_wji(x[\"x_n3\"][i], x[\"h_n1\"][i], v_kj[0], x[\"t_n1\"][i], x[\"o_nk\"][i]))\n",
    "    \n",
    "    En_w21.append(En_wji(x[\"x_n1\"][i], x[\"h_n2\"][i], v_kj[1], x[\"t_n1\"][i], x[\"o_nk\"][i]))\n",
    "    En_w22.append(En_wji(x[\"x_n2\"][i], x[\"h_n2\"][i], v_kj[1], x[\"t_n1\"][i], x[\"o_nk\"][i]))\n",
    "    En_w23.append(En_wji(x[\"x_n3\"][i], x[\"h_n2\"][i], v_kj[1], x[\"t_n1\"][i], x[\"o_nk\"][i]))\n",
    "                  \n",
    "x[\"En_w11\"] = En_w11 ; x[\"En_w12\"] = En_w12 ; x[\"En_w13\"] = En_w13\n",
    "x[\"En_w21\"] = En_w21 ; x[\"En_w22\"] = En_w22 ; x[\"En_w23\"] = En_w23"
   ]
  },
  {
   "cell_type": "code",
   "execution_count": null,
   "id": "aca9512d",
   "metadata": {
    "scrolled": false
   },
   "outputs": [],
   "source": [
    "print(x)"
   ]
  },
  {
   "cell_type": "code",
   "execution_count": 18,
   "id": "dfc8d017",
   "metadata": {},
   "outputs": [
    {
     "data": {
      "text/plain": [
       "0.6750246773276009"
      ]
     },
     "execution_count": 18,
     "metadata": {},
     "output_type": "execute_result"
    }
   ],
   "source": []
  }
 ],
 "metadata": {
  "kernelspec": {
   "display_name": "Python 3 (ipykernel)",
   "language": "python",
   "name": "python3"
  },
  "language_info": {
   "codemirror_mode": {
    "name": "ipython",
    "version": 3
   },
   "file_extension": ".py",
   "mimetype": "text/x-python",
   "name": "python",
   "nbconvert_exporter": "python",
   "pygments_lexer": "ipython3",
   "version": "3.7.11"
  }
 },
 "nbformat": 4,
 "nbformat_minor": 5
}
